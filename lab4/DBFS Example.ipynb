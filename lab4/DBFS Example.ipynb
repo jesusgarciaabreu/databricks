{
 "cells": [
  {
   "cell_type": "markdown",
   "metadata": {
    "application/vnd.databricks.v1+cell": {
     "cellMetadata": {},
     "inputWidgets": {},
     "nuid": "96816ed7-b08a-4ca3-abb9-f99880c3535d",
     "showTitle": false,
     "title": ""
    }
   },
   "source": [
    "\n",
    "## Overview\n",
    "\n",
    "This notebook shows you how to create and query a table or DataFrame loaded from data stored in AWS S3. There are two ways to establish access to S3: [IAM roles](https://docs.databricks.com/user-guide/cloud-configurations/aws/iam-roles.html) and access keys.\n",
    "\n",
    "*We recommend using IAM roles to specify which cluster can access which buckets. Keys can show up in logs and table metadata and are therefore fundamentally insecure.* If you do use keys, you'll have to escape the `/` in your keys with `%2F`.\n",
    "\n",
    "This is a **Python** notebook so the default cell type is Python. However, you can use different languages by using the `%LANGUAGE` magic command. Python, Scala, SQL, and R are all supported."
   ]
  },
  {
   "cell_type": "markdown",
   "metadata": {
    "application/vnd.databricks.v1+cell": {
     "cellMetadata": {},
     "inputWidgets": {},
     "nuid": "ed8b23ec-e5cb-4088-87cd-5776fb4d38ec",
     "showTitle": false,
     "title": ""
    }
   },
   "source": [
    "Lee el archivo y cárgalo en una vista temporal usando Pyspark"
   ]
  },
  {
   "cell_type": "code",
   "execution_count": 0,
   "metadata": {
    "application/vnd.databricks.v1+cell": {
     "cellMetadata": {
      "byteLimit": 2048000,
      "rowLimit": 10000
     },
     "inputWidgets": {},
     "nuid": "25b3ad0c-15bc-45d9-b475-277af908fb9b",
     "showTitle": false,
     "title": ""
    }
   },
   "outputs": [],
   "source": [
    "from pyspark.sql.types import *\n",
    "from pyspark.sql.functions import *"
   ]
  },
  {
   "cell_type": "code",
   "execution_count": 0,
   "metadata": {
    "application/vnd.databricks.v1+cell": {
     "cellMetadata": {
      "byteLimit": 2048000,
      "rowLimit": 10000
     },
     "inputWidgets": {},
     "nuid": "4fd0dbea-4830-427d-b455-c7bf2af34507",
     "showTitle": false,
     "title": ""
    }
   },
   "outputs": [
    {
     "output_type": "display_data",
     "data": {
      "text/html": [
       "\n",
       "            <div>\n",
       "                <p><b>SparkSession - hive</b></p>\n",
       "                \n",
       "        <div>\n",
       "            <p><b>SparkContext</b></p>\n",
       "\n",
       "            <p><a href=\"/?o=3926569176747855#setting/sparkui/1020-233523-dmq8nxdz/driver-20341605689748869\">Spark UI</a></p>\n",
       "\n",
       "            <dl>\n",
       "              <dt>Version</dt>\n",
       "                <dd><code>v3.3.2</code></dd>\n",
       "              <dt>Master</dt>\n",
       "                <dd><code>local[8]</code></dd>\n",
       "              <dt>AppName</dt>\n",
       "                <dd><code>Databricks Shell</code></dd>\n",
       "            </dl>\n",
       "        </div>\n",
       "        \n",
       "            </div>\n",
       "        "
      ]
     },
     "metadata": {
      "application/vnd.databricks.v1+output": {
       "addedWidgets": {},
       "arguments": {},
       "data": "\n            <div>\n                <p><b>SparkSession - hive</b></p>\n                \n        <div>\n            <p><b>SparkContext</b></p>\n\n            <p><a href=\"/?o=3926569176747855#setting/sparkui/1020-233523-dmq8nxdz/driver-20341605689748869\">Spark UI</a></p>\n\n            <dl>\n              <dt>Version</dt>\n                <dd><code>v3.3.2</code></dd>\n              <dt>Master</dt>\n                <dd><code>local[8]</code></dd>\n              <dt>AppName</dt>\n                <dd><code>Databricks Shell</code></dd>\n            </dl>\n        </div>\n        \n            </div>\n        ",
       "datasetInfos": [],
       "metadata": {},
       "removedWidgets": [],
       "textData": null,
       "type": "htmlSandbox"
      }
     },
     "output_type": "display_data"
    }
   ],
   "source": [
    "spark"
   ]
  },
  {
   "cell_type": "code",
   "execution_count": 0,
   "metadata": {
    "application/vnd.databricks.v1+cell": {
     "cellMetadata": {
      "byteLimit": 2048000,
      "rowLimit": 10000
     },
     "inputWidgets": {},
     "nuid": "c90f4fb3-6956-475f-968a-abec384fb2df",
     "showTitle": false,
     "title": ""
    }
   },
   "outputs": [
    {
     "output_type": "display_data",
     "data": {
      "text/html": [
       "<style scoped>\n",
       "  .table-result-container {\n",
       "    max-height: 300px;\n",
       "    overflow: auto;\n",
       "  }\n",
       "  table, th, td {\n",
       "    border: 1px solid black;\n",
       "    border-collapse: collapse;\n",
       "  }\n",
       "  th, td {\n",
       "    padding: 5px;\n",
       "  }\n",
       "  th {\n",
       "    text-align: left;\n",
       "  }\n",
       "</style><div class='table-result-container'><table class='table-result'><thead style='background-color: white'><tr><th>path</th><th>name</th><th>size</th><th>modificationTime</th></tr></thead><tbody><tr><td>dbfs:/FileStore/tables/Mall_Customers.csv</td><td>Mall_Customers.csv</td><td>4286</td><td>1729466845000</td></tr></tbody></table></div>"
      ]
     },
     "metadata": {
      "application/vnd.databricks.v1+output": {
       "addedWidgets": {},
       "aggData": [],
       "aggError": "",
       "aggOverflow": false,
       "aggSchema": [],
       "aggSeriesLimitReached": false,
       "aggType": "",
       "arguments": {},
       "columnCustomDisplayInfos": {},
       "data": [
        [
         "dbfs:/FileStore/tables/Mall_Customers.csv",
         "Mall_Customers.csv",
         4286,
         1729466845000
        ]
       ],
       "datasetInfos": [],
       "dbfsResultPath": null,
       "isJsonSchema": true,
       "metadata": {
        "isDbfsCommandResult": false
       },
       "overflow": false,
       "plotOptions": {
        "customPlotOptions": {},
        "displayType": "table",
        "pivotAggregation": null,
        "pivotColumns": null,
        "xColumns": null,
        "yColumns": null
       },
       "removedWidgets": [],
       "schema": [
        {
         "metadata": "{}",
         "name": "path",
         "type": "\"string\""
        },
        {
         "metadata": "{}",
         "name": "name",
         "type": "\"string\""
        },
        {
         "metadata": "{}",
         "name": "size",
         "type": "\"long\""
        },
        {
         "metadata": "{}",
         "name": "modificationTime",
         "type": "\"long\""
        }
       ],
       "type": "table"
      }
     },
     "output_type": "display_data"
    }
   ],
   "source": [
    "%fs ls /FileStore/tables/"
   ]
  },
  {
   "cell_type": "code",
   "execution_count": 0,
   "metadata": {
    "application/vnd.databricks.v1+cell": {
     "cellMetadata": {
      "byteLimit": 2048000,
      "rowLimit": 10000
     },
     "inputWidgets": {},
     "nuid": "faa38be0-fed4-4cf6-9f2d-9cd28b7c9e92",
     "showTitle": false,
     "title": ""
    }
   },
   "outputs": [
    {
     "output_type": "display_data",
     "data": {
      "text/html": [
       "<style scoped>\n",
       "  .ansiout {\n",
       "    display: block;\n",
       "    unicode-bidi: embed;\n",
       "    white-space: pre-wrap;\n",
       "    word-wrap: break-word;\n",
       "    word-break: break-all;\n",
       "    font-family: \"Menlo\", \"Monaco\", \"Consolas\", \"Ubuntu Mono\", \"Source Code Pro\", monospace;\n",
       "    font-size: 13px;\n",
       "    color: #555;\n",
       "    margin-left: 4px;\n",
       "    line-height: 19px;\n",
       "  }\n",
       "</style>\n",
       "<div class=\"ansiout\">res5: Boolean = true\n",
       "</div>"
      ]
     },
     "metadata": {
      "application/vnd.databricks.v1+output": {
       "addedWidgets": {},
       "arguments": {},
       "data": "<div class=\"ansiout\">res5: Boolean = true\n</div>",
       "datasetInfos": [],
       "metadata": {
        "isDbfsCommandResult": false
       },
       "removedWidgets": [],
       "type": "html"
      }
     },
     "output_type": "display_data"
    }
   ],
   "source": [
    "%fs rm /FileStore/tables/Mall_Customers-4.csv"
   ]
  },
  {
   "cell_type": "markdown",
   "metadata": {
    "application/vnd.databricks.v1+cell": {
     "cellMetadata": {},
     "inputWidgets": {},
     "nuid": "86cccde0-8d25-454f-888f-4259ad419f6f",
     "showTitle": false,
     "title": ""
    }
   },
   "source": [
    "a. Realiza al menos 4 consultas, ejecutando la función sprak.sql"
   ]
  },
  {
   "cell_type": "code",
   "execution_count": 0,
   "metadata": {
    "application/vnd.databricks.v1+cell": {
     "cellMetadata": {
      "byteLimit": 2048000,
      "rowLimit": 10000
     },
     "inputWidgets": {},
     "nuid": "cfdeac6a-1f9a-4485-941c-5787629c5d9e",
     "showTitle": false,
     "title": ""
    }
   },
   "outputs": [
    {
     "output_type": "stream",
     "name": "stdout",
     "output_type": "stream",
     "text": [
      "+----------+------+---+------------------+----------------------+\n|CustomerID| Genre|Age|Annual Income (k$)|Spending Score (1-100)|\n+----------+------+---+------------------+----------------------+\n|         1|  Male| 19|                15|                    39|\n|         2|  Male| 21|                15|                    81|\n|         3|Female| 20|                16|                     6|\n|         4|Female| 23|                16|                    77|\n|         5|Female| 31|                17|                    40|\n|         6|Female| 22|                17|                    76|\n|         7|Female| 35|                18|                     6|\n|         8|Female| 23|                18|                    94|\n|         9|  Male| 64|                19|                     3|\n|        10|Female| 30|                19|                    72|\n|        11|  Male| 67|                19|                    14|\n|        12|Female| 35|                19|                    99|\n|        13|Female| 58|                20|                    15|\n|        14|Female| 24|                20|                    77|\n|        15|  Male| 37|                20|                    13|\n|        16|  Male| 22|                20|                    79|\n|        17|Female| 35|                21|                    35|\n|        18|  Male| 20|                21|                    66|\n|        19|  Male| 52|                23|                    29|\n|        20|Female| 35|                23|                    98|\n+----------+------+---+------------------+----------------------+\nonly showing top 20 rows\n\n"
     ]
    }
   ],
   "source": [
    "# Leer el archivo CSV desde /FileStore/tables/ usando Spark\n",
    "df = spark.read.csv('/FileStore/tables/Mall_Customers.csv', header=True, inferSchema=True)\n",
    "\n",
    "# Mostrar las primeras filas del DataFrame\n",
    "df.show()"
   ]
  },
  {
   "cell_type": "code",
   "execution_count": 0,
   "metadata": {
    "application/vnd.databricks.v1+cell": {
     "cellMetadata": {
      "byteLimit": 2048000,
      "rowLimit": 10000
     },
     "inputWidgets": {},
     "nuid": "11b4d21a-6b6c-403c-9432-a2b8aa180287",
     "showTitle": false,
     "title": ""
    }
   },
   "outputs": [],
   "source": [
    "df.createOrReplaceTempView(\"mi_tabla_csv\")"
   ]
  },
  {
   "cell_type": "code",
   "execution_count": 0,
   "metadata": {
    "application/vnd.databricks.v1+cell": {
     "cellMetadata": {
      "byteLimit": 2048000,
      "rowLimit": 10000
     },
     "inputWidgets": {},
     "nuid": "35cb14ee-9af0-464f-be6d-5aab7ff971a2",
     "showTitle": false,
     "title": ""
    }
   },
   "outputs": [
    {
     "output_type": "stream",
     "name": "stdout",
     "output_type": "stream",
     "text": [
      "+----------+------+---+------------------+----------------------+\n|CustomerID| Genre|Age|Annual Income (k$)|Spending Score (1-100)|\n+----------+------+---+------------------+----------------------+\n|         1|  Male| 19|                15|                    39|\n|         2|  Male| 21|                15|                    81|\n|         3|Female| 20|                16|                     6|\n|         4|Female| 23|                16|                    77|\n|         5|Female| 31|                17|                    40|\n|         6|Female| 22|                17|                    76|\n|         7|Female| 35|                18|                     6|\n|         8|Female| 23|                18|                    94|\n|         9|  Male| 64|                19|                     3|\n|        10|Female| 30|                19|                    72|\n|        11|  Male| 67|                19|                    14|\n|        12|Female| 35|                19|                    99|\n|        13|Female| 58|                20|                    15|\n|        14|Female| 24|                20|                    77|\n|        15|  Male| 37|                20|                    13|\n|        16|  Male| 22|                20|                    79|\n|        17|Female| 35|                21|                    35|\n|        18|  Male| 20|                21|                    66|\n|        19|  Male| 52|                23|                    29|\n|        20|Female| 35|                23|                    98|\n+----------+------+---+------------------+----------------------+\nonly showing top 20 rows\n\n"
     ]
    }
   ],
   "source": [
    "spark.sql(\"SELECT * FROM mi_tabla_csv\").show()"
   ]
  },
  {
   "cell_type": "code",
   "execution_count": 0,
   "metadata": {
    "application/vnd.databricks.v1+cell": {
     "cellMetadata": {
      "byteLimit": 2048000,
      "rowLimit": 10000
     },
     "inputWidgets": {},
     "nuid": "244d9a5a-9516-48b4-afd4-4f2aa38a7e8c",
     "showTitle": false,
     "title": ""
    }
   },
   "outputs": [
    {
     "output_type": "stream",
     "name": "stdout",
     "output_type": "stream",
     "text": [
      "+----------+------+---+------------------+----------------------+\n|CustomerID| Genre|Age|Annual Income (k$)|Spending Score (1-100)|\n+----------+------+---+------------------+----------------------+\n|         5|Female| 31|                17|                    40|\n|         7|Female| 35|                18|                     6|\n|         9|  Male| 64|                19|                     3|\n|        11|  Male| 67|                19|                    14|\n|        12|Female| 35|                19|                    99|\n|        13|Female| 58|                20|                    15|\n|        15|  Male| 37|                20|                    13|\n|        17|Female| 35|                21|                    35|\n|        19|  Male| 52|                23|                    29|\n|        20|Female| 35|                23|                    98|\n|        21|  Male| 35|                24|                    35|\n|        23|Female| 46|                25|                     5|\n|        24|  Male| 31|                25|                    73|\n|        25|Female| 54|                28|                    14|\n|        27|Female| 45|                28|                    32|\n|        28|  Male| 35|                28|                    61|\n|        29|Female| 40|                29|                    31|\n|        31|  Male| 60|                30|                     4|\n|        33|  Male| 53|                33|                     4|\n|        35|Female| 49|                33|                    14|\n+----------+------+---+------------------+----------------------+\nonly showing top 20 rows\n\n"
     ]
    }
   ],
   "source": [
    "spark.sql(\"SELECT * FROM mi_tabla_csv WHERE Age > 30\").show()"
   ]
  },
  {
   "cell_type": "code",
   "execution_count": 0,
   "metadata": {
    "application/vnd.databricks.v1+cell": {
     "cellMetadata": {
      "byteLimit": 2048000,
      "rowLimit": 10000
     },
     "inputWidgets": {},
     "nuid": "3298256a-d411-414c-bf64-357108a2fc8d",
     "showTitle": false,
     "title": ""
    }
   },
   "outputs": [
    {
     "output_type": "stream",
     "name": "stdout",
     "output_type": "stream",
     "text": [
      "+----------+-----+---+------------------+----------------------+\n|CustomerID|Genre|Age|Annual Income (k$)|Spending Score (1-100)|\n+----------+-----+---+------------------+----------------------+\n|        18| Male| 20|                21|                    66|\n|        19| Male| 52|                23|                    29|\n|        21| Male| 35|                24|                    35|\n|        22| Male| 25|                24|                    73|\n|        24| Male| 31|                25|                    73|\n|        26| Male| 29|                28|                    82|\n|        28| Male| 35|                28|                    61|\n|        31| Male| 60|                30|                     4|\n|        33| Male| 53|                33|                     4|\n|        34| Male| 18|                33|                    92|\n|        42| Male| 24|                38|                    92|\n|        43| Male| 48|                39|                    36|\n|        52| Male| 33|                42|                    60|\n|        54| Male| 59|                43|                    60|\n|        56| Male| 47|                43|                    41|\n|        58| Male| 69|                44|                    46|\n|        60| Male| 53|                46|                    46|\n|        61| Male| 70|                46|                    56|\n|        62| Male| 19|                46|                    55|\n|        65| Male| 63|                48|                    51|\n+----------+-----+---+------------------+----------------------+\nonly showing top 20 rows\n\n"
     ]
    }
   ],
   "source": [
    "spark.sql(\"SELECT * FROM mi_tabla_csv WHERE `Annual Income (k$)`>20 AND Genre = 'Male'\").show()\n"
   ]
  },
  {
   "cell_type": "code",
   "execution_count": 0,
   "metadata": {
    "application/vnd.databricks.v1+cell": {
     "cellMetadata": {
      "byteLimit": 2048000,
      "rowLimit": 10000
     },
     "inputWidgets": {},
     "nuid": "9806a862-f88e-425d-9e61-1671f059eedf",
     "showTitle": false,
     "title": ""
    }
   },
   "outputs": [
    {
     "output_type": "stream",
     "name": "stdout",
     "output_type": "stream",
     "text": [
      "+----------+------+---+------------------+----------------------+\n|CustomerID| Genre|Age|Annual Income (k$)|Spending Score (1-100)|\n+----------+------+---+------------------+----------------------+\n|         4|Female| 23|                16|                    77|\n|         5|Female| 31|                17|                    40|\n|         6|Female| 22|                17|                    76|\n|         8|Female| 23|                18|                    94|\n|        10|Female| 30|                19|                    72|\n|        12|Female| 35|                19|                    99|\n|        14|Female| 24|                20|                    77|\n|        17|Female| 35|                21|                    35|\n|        20|Female| 35|                23|                    98|\n|        27|Female| 45|                28|                    32|\n|        29|Female| 40|                29|                    31|\n|        30|Female| 23|                29|                    87|\n|        32|Female| 21|                30|                    73|\n|        36|Female| 21|                33|                    81|\n|        38|Female| 30|                34|                    73|\n|        40|Female| 20|                37|                    75|\n|        41|Female| 65|                38|                    35|\n|        44|Female| 31|                39|                    61|\n|        46|Female| 24|                39|                    65|\n|        47|Female| 50|                40|                    55|\n+----------+------+---+------------------+----------------------+\nonly showing top 20 rows\n\n"
     ]
    }
   ],
   "source": [
    "spark.sql(\"SELECT * FROM mi_tabla_csv WHERE `Spending Score (1-100)`>30 AND Genre = 'Female'\").show()\n"
   ]
  },
  {
   "cell_type": "code",
   "execution_count": 0,
   "metadata": {
    "application/vnd.databricks.v1+cell": {
     "cellMetadata": {
      "byteLimit": 2048000,
      "implicitDf": true,
      "rowLimit": 10000
     },
     "inputWidgets": {},
     "nuid": "66cab20d-e585-4464-83fe-17b090b410e0",
     "showTitle": false,
     "title": ""
    }
   },
   "outputs": [
    {
     "output_type": "display_data",
     "data": {
      "text/html": [
       "<style scoped>\n",
       "  .table-result-container {\n",
       "    max-height: 300px;\n",
       "    overflow: auto;\n",
       "  }\n",
       "  table, th, td {\n",
       "    border: 1px solid black;\n",
       "    border-collapse: collapse;\n",
       "  }\n",
       "  th, td {\n",
       "    padding: 5px;\n",
       "  }\n",
       "  th {\n",
       "    text-align: left;\n",
       "  }\n",
       "</style><div class='table-result-container'><table class='table-result'><thead style='background-color: white'><tr><th>CustomerID</th><th>Genre</th><th>Age</th><th>Annual Income (k$)</th><th>Spending Score (1-100)</th></tr></thead><tbody><tr><td>1</td><td>Male</td><td>19</td><td>15</td><td>39</td></tr><tr><td>2</td><td>Male</td><td>21</td><td>15</td><td>81</td></tr><tr><td>3</td><td>Female</td><td>20</td><td>16</td><td>6</td></tr><tr><td>4</td><td>Female</td><td>23</td><td>16</td><td>77</td></tr><tr><td>5</td><td>Female</td><td>31</td><td>17</td><td>40</td></tr><tr><td>6</td><td>Female</td><td>22</td><td>17</td><td>76</td></tr><tr><td>7</td><td>Female</td><td>35</td><td>18</td><td>6</td></tr><tr><td>8</td><td>Female</td><td>23</td><td>18</td><td>94</td></tr><tr><td>9</td><td>Male</td><td>64</td><td>19</td><td>3</td></tr><tr><td>10</td><td>Female</td><td>30</td><td>19</td><td>72</td></tr><tr><td>11</td><td>Male</td><td>67</td><td>19</td><td>14</td></tr><tr><td>12</td><td>Female</td><td>35</td><td>19</td><td>99</td></tr><tr><td>13</td><td>Female</td><td>58</td><td>20</td><td>15</td></tr><tr><td>14</td><td>Female</td><td>24</td><td>20</td><td>77</td></tr><tr><td>15</td><td>Male</td><td>37</td><td>20</td><td>13</td></tr><tr><td>16</td><td>Male</td><td>22</td><td>20</td><td>79</td></tr><tr><td>17</td><td>Female</td><td>35</td><td>21</td><td>35</td></tr><tr><td>18</td><td>Male</td><td>20</td><td>21</td><td>66</td></tr><tr><td>19</td><td>Male</td><td>52</td><td>23</td><td>29</td></tr><tr><td>20</td><td>Female</td><td>35</td><td>23</td><td>98</td></tr><tr><td>21</td><td>Male</td><td>35</td><td>24</td><td>35</td></tr><tr><td>22</td><td>Male</td><td>25</td><td>24</td><td>73</td></tr><tr><td>23</td><td>Female</td><td>46</td><td>25</td><td>5</td></tr><tr><td>24</td><td>Male</td><td>31</td><td>25</td><td>73</td></tr><tr><td>25</td><td>Female</td><td>54</td><td>28</td><td>14</td></tr><tr><td>26</td><td>Male</td><td>29</td><td>28</td><td>82</td></tr><tr><td>27</td><td>Female</td><td>45</td><td>28</td><td>32</td></tr><tr><td>28</td><td>Male</td><td>35</td><td>28</td><td>61</td></tr><tr><td>29</td><td>Female</td><td>40</td><td>29</td><td>31</td></tr><tr><td>30</td><td>Female</td><td>23</td><td>29</td><td>87</td></tr><tr><td>31</td><td>Male</td><td>60</td><td>30</td><td>4</td></tr><tr><td>32</td><td>Female</td><td>21</td><td>30</td><td>73</td></tr><tr><td>33</td><td>Male</td><td>53</td><td>33</td><td>4</td></tr><tr><td>34</td><td>Male</td><td>18</td><td>33</td><td>92</td></tr><tr><td>35</td><td>Female</td><td>49</td><td>33</td><td>14</td></tr><tr><td>36</td><td>Female</td><td>21</td><td>33</td><td>81</td></tr><tr><td>37</td><td>Female</td><td>42</td><td>34</td><td>17</td></tr><tr><td>38</td><td>Female</td><td>30</td><td>34</td><td>73</td></tr><tr><td>39</td><td>Female</td><td>36</td><td>37</td><td>26</td></tr><tr><td>40</td><td>Female</td><td>20</td><td>37</td><td>75</td></tr><tr><td>41</td><td>Female</td><td>65</td><td>38</td><td>35</td></tr><tr><td>42</td><td>Male</td><td>24</td><td>38</td><td>92</td></tr><tr><td>43</td><td>Male</td><td>48</td><td>39</td><td>36</td></tr><tr><td>44</td><td>Female</td><td>31</td><td>39</td><td>61</td></tr><tr><td>45</td><td>Female</td><td>49</td><td>39</td><td>28</td></tr><tr><td>46</td><td>Female</td><td>24</td><td>39</td><td>65</td></tr><tr><td>47</td><td>Female</td><td>50</td><td>40</td><td>55</td></tr><tr><td>48</td><td>Female</td><td>27</td><td>40</td><td>47</td></tr><tr><td>49</td><td>Female</td><td>29</td><td>40</td><td>42</td></tr><tr><td>50</td><td>Female</td><td>31</td><td>40</td><td>42</td></tr><tr><td>51</td><td>Female</td><td>49</td><td>42</td><td>52</td></tr><tr><td>52</td><td>Male</td><td>33</td><td>42</td><td>60</td></tr><tr><td>53</td><td>Female</td><td>31</td><td>43</td><td>54</td></tr><tr><td>54</td><td>Male</td><td>59</td><td>43</td><td>60</td></tr><tr><td>55</td><td>Female</td><td>50</td><td>43</td><td>45</td></tr><tr><td>56</td><td>Male</td><td>47</td><td>43</td><td>41</td></tr><tr><td>57</td><td>Female</td><td>51</td><td>44</td><td>50</td></tr><tr><td>58</td><td>Male</td><td>69</td><td>44</td><td>46</td></tr><tr><td>59</td><td>Female</td><td>27</td><td>46</td><td>51</td></tr><tr><td>60</td><td>Male</td><td>53</td><td>46</td><td>46</td></tr><tr><td>61</td><td>Male</td><td>70</td><td>46</td><td>56</td></tr><tr><td>62</td><td>Male</td><td>19</td><td>46</td><td>55</td></tr><tr><td>63</td><td>Female</td><td>67</td><td>47</td><td>52</td></tr><tr><td>64</td><td>Female</td><td>54</td><td>47</td><td>59</td></tr><tr><td>65</td><td>Male</td><td>63</td><td>48</td><td>51</td></tr><tr><td>66</td><td>Male</td><td>18</td><td>48</td><td>59</td></tr><tr><td>67</td><td>Female</td><td>43</td><td>48</td><td>50</td></tr><tr><td>68</td><td>Female</td><td>68</td><td>48</td><td>48</td></tr><tr><td>69</td><td>Male</td><td>19</td><td>48</td><td>59</td></tr><tr><td>70</td><td>Female</td><td>32</td><td>48</td><td>47</td></tr><tr><td>71</td><td>Male</td><td>70</td><td>49</td><td>55</td></tr><tr><td>72</td><td>Female</td><td>47</td><td>49</td><td>42</td></tr><tr><td>73</td><td>Female</td><td>60</td><td>50</td><td>49</td></tr><tr><td>74</td><td>Female</td><td>60</td><td>50</td><td>56</td></tr><tr><td>75</td><td>Male</td><td>59</td><td>54</td><td>47</td></tr><tr><td>76</td><td>Male</td><td>26</td><td>54</td><td>54</td></tr><tr><td>77</td><td>Female</td><td>45</td><td>54</td><td>53</td></tr><tr><td>78</td><td>Male</td><td>40</td><td>54</td><td>48</td></tr><tr><td>79</td><td>Female</td><td>23</td><td>54</td><td>52</td></tr><tr><td>80</td><td>Female</td><td>49</td><td>54</td><td>42</td></tr><tr><td>81</td><td>Male</td><td>57</td><td>54</td><td>51</td></tr><tr><td>82</td><td>Male</td><td>38</td><td>54</td><td>55</td></tr><tr><td>83</td><td>Male</td><td>67</td><td>54</td><td>41</td></tr><tr><td>84</td><td>Female</td><td>46</td><td>54</td><td>44</td></tr><tr><td>85</td><td>Female</td><td>21</td><td>54</td><td>57</td></tr><tr><td>86</td><td>Male</td><td>48</td><td>54</td><td>46</td></tr><tr><td>87</td><td>Female</td><td>55</td><td>57</td><td>58</td></tr><tr><td>88</td><td>Female</td><td>22</td><td>57</td><td>55</td></tr><tr><td>89</td><td>Female</td><td>34</td><td>58</td><td>60</td></tr><tr><td>90</td><td>Female</td><td>50</td><td>58</td><td>46</td></tr><tr><td>91</td><td>Female</td><td>68</td><td>59</td><td>55</td></tr><tr><td>92</td><td>Male</td><td>18</td><td>59</td><td>41</td></tr><tr><td>93</td><td>Male</td><td>48</td><td>60</td><td>49</td></tr><tr><td>94</td><td>Female</td><td>40</td><td>60</td><td>40</td></tr><tr><td>95</td><td>Female</td><td>32</td><td>60</td><td>42</td></tr><tr><td>96</td><td>Male</td><td>24</td><td>60</td><td>52</td></tr><tr><td>97</td><td>Female</td><td>47</td><td>60</td><td>47</td></tr><tr><td>98</td><td>Female</td><td>27</td><td>60</td><td>50</td></tr><tr><td>99</td><td>Male</td><td>48</td><td>61</td><td>42</td></tr><tr><td>100</td><td>Male</td><td>20</td><td>61</td><td>49</td></tr><tr><td>101</td><td>Female</td><td>23</td><td>62</td><td>41</td></tr><tr><td>102</td><td>Female</td><td>49</td><td>62</td><td>48</td></tr><tr><td>103</td><td>Male</td><td>67</td><td>62</td><td>59</td></tr><tr><td>104</td><td>Male</td><td>26</td><td>62</td><td>55</td></tr><tr><td>105</td><td>Male</td><td>49</td><td>62</td><td>56</td></tr><tr><td>106</td><td>Female</td><td>21</td><td>62</td><td>42</td></tr><tr><td>107</td><td>Female</td><td>66</td><td>63</td><td>50</td></tr><tr><td>108</td><td>Male</td><td>54</td><td>63</td><td>46</td></tr><tr><td>109</td><td>Male</td><td>68</td><td>63</td><td>43</td></tr><tr><td>110</td><td>Male</td><td>66</td><td>63</td><td>48</td></tr><tr><td>111</td><td>Male</td><td>65</td><td>63</td><td>52</td></tr><tr><td>112</td><td>Female</td><td>19</td><td>63</td><td>54</td></tr><tr><td>113</td><td>Female</td><td>38</td><td>64</td><td>42</td></tr><tr><td>114</td><td>Male</td><td>19</td><td>64</td><td>46</td></tr><tr><td>115</td><td>Female</td><td>18</td><td>65</td><td>48</td></tr><tr><td>116</td><td>Female</td><td>19</td><td>65</td><td>50</td></tr><tr><td>117</td><td>Female</td><td>63</td><td>65</td><td>43</td></tr><tr><td>118</td><td>Female</td><td>49</td><td>65</td><td>59</td></tr><tr><td>119</td><td>Female</td><td>51</td><td>67</td><td>43</td></tr><tr><td>120</td><td>Female</td><td>50</td><td>67</td><td>57</td></tr><tr><td>121</td><td>Male</td><td>27</td><td>67</td><td>56</td></tr><tr><td>122</td><td>Female</td><td>38</td><td>67</td><td>40</td></tr><tr><td>123</td><td>Female</td><td>40</td><td>69</td><td>58</td></tr><tr><td>124</td><td>Male</td><td>39</td><td>69</td><td>91</td></tr><tr><td>125</td><td>Female</td><td>23</td><td>70</td><td>29</td></tr><tr><td>126</td><td>Female</td><td>31</td><td>70</td><td>77</td></tr><tr><td>127</td><td>Male</td><td>43</td><td>71</td><td>35</td></tr><tr><td>128</td><td>Male</td><td>40</td><td>71</td><td>95</td></tr><tr><td>129</td><td>Male</td><td>59</td><td>71</td><td>11</td></tr><tr><td>130</td><td>Male</td><td>38</td><td>71</td><td>75</td></tr><tr><td>131</td><td>Male</td><td>47</td><td>71</td><td>9</td></tr><tr><td>132</td><td>Male</td><td>39</td><td>71</td><td>75</td></tr><tr><td>133</td><td>Female</td><td>25</td><td>72</td><td>34</td></tr><tr><td>134</td><td>Female</td><td>31</td><td>72</td><td>71</td></tr><tr><td>135</td><td>Male</td><td>20</td><td>73</td><td>5</td></tr><tr><td>136</td><td>Female</td><td>29</td><td>73</td><td>88</td></tr><tr><td>137</td><td>Female</td><td>44</td><td>73</td><td>7</td></tr><tr><td>138</td><td>Male</td><td>32</td><td>73</td><td>73</td></tr><tr><td>139</td><td>Male</td><td>19</td><td>74</td><td>10</td></tr><tr><td>140</td><td>Female</td><td>35</td><td>74</td><td>72</td></tr><tr><td>141</td><td>Female</td><td>57</td><td>75</td><td>5</td></tr><tr><td>142</td><td>Male</td><td>32</td><td>75</td><td>93</td></tr><tr><td>143</td><td>Female</td><td>28</td><td>76</td><td>40</td></tr><tr><td>144</td><td>Female</td><td>32</td><td>76</td><td>87</td></tr><tr><td>145</td><td>Male</td><td>25</td><td>77</td><td>12</td></tr><tr><td>146</td><td>Male</td><td>28</td><td>77</td><td>97</td></tr><tr><td>147</td><td>Male</td><td>48</td><td>77</td><td>36</td></tr><tr><td>148</td><td>Female</td><td>32</td><td>77</td><td>74</td></tr><tr><td>149</td><td>Female</td><td>34</td><td>78</td><td>22</td></tr><tr><td>150</td><td>Male</td><td>34</td><td>78</td><td>90</td></tr><tr><td>151</td><td>Male</td><td>43</td><td>78</td><td>17</td></tr><tr><td>152</td><td>Male</td><td>39</td><td>78</td><td>88</td></tr><tr><td>153</td><td>Female</td><td>44</td><td>78</td><td>20</td></tr><tr><td>154</td><td>Female</td><td>38</td><td>78</td><td>76</td></tr><tr><td>155</td><td>Female</td><td>47</td><td>78</td><td>16</td></tr><tr><td>156</td><td>Female</td><td>27</td><td>78</td><td>89</td></tr><tr><td>157</td><td>Male</td><td>37</td><td>78</td><td>1</td></tr><tr><td>158</td><td>Female</td><td>30</td><td>78</td><td>78</td></tr><tr><td>159</td><td>Male</td><td>34</td><td>78</td><td>1</td></tr><tr><td>160</td><td>Female</td><td>30</td><td>78</td><td>73</td></tr><tr><td>161</td><td>Female</td><td>56</td><td>79</td><td>35</td></tr><tr><td>162</td><td>Female</td><td>29</td><td>79</td><td>83</td></tr><tr><td>163</td><td>Male</td><td>19</td><td>81</td><td>5</td></tr><tr><td>164</td><td>Female</td><td>31</td><td>81</td><td>93</td></tr><tr><td>165</td><td>Male</td><td>50</td><td>85</td><td>26</td></tr><tr><td>166</td><td>Female</td><td>36</td><td>85</td><td>75</td></tr><tr><td>167</td><td>Male</td><td>42</td><td>86</td><td>20</td></tr><tr><td>168</td><td>Female</td><td>33</td><td>86</td><td>95</td></tr><tr><td>169</td><td>Female</td><td>36</td><td>87</td><td>27</td></tr><tr><td>170</td><td>Male</td><td>32</td><td>87</td><td>63</td></tr><tr><td>171</td><td>Male</td><td>40</td><td>87</td><td>13</td></tr><tr><td>172</td><td>Male</td><td>28</td><td>87</td><td>75</td></tr><tr><td>173</td><td>Male</td><td>36</td><td>87</td><td>10</td></tr><tr><td>174</td><td>Male</td><td>36</td><td>87</td><td>92</td></tr><tr><td>175</td><td>Female</td><td>52</td><td>88</td><td>13</td></tr><tr><td>176</td><td>Female</td><td>30</td><td>88</td><td>86</td></tr><tr><td>177</td><td>Male</td><td>58</td><td>88</td><td>15</td></tr><tr><td>178</td><td>Male</td><td>27</td><td>88</td><td>69</td></tr><tr><td>179</td><td>Male</td><td>59</td><td>93</td><td>14</td></tr><tr><td>180</td><td>Male</td><td>35</td><td>93</td><td>90</td></tr><tr><td>181</td><td>Female</td><td>37</td><td>97</td><td>32</td></tr><tr><td>182</td><td>Female</td><td>32</td><td>97</td><td>86</td></tr><tr><td>183</td><td>Male</td><td>46</td><td>98</td><td>15</td></tr><tr><td>184</td><td>Female</td><td>29</td><td>98</td><td>88</td></tr><tr><td>185</td><td>Female</td><td>41</td><td>99</td><td>39</td></tr><tr><td>186</td><td>Male</td><td>30</td><td>99</td><td>97</td></tr><tr><td>187</td><td>Female</td><td>54</td><td>101</td><td>24</td></tr><tr><td>188</td><td>Male</td><td>28</td><td>101</td><td>68</td></tr><tr><td>189</td><td>Female</td><td>41</td><td>103</td><td>17</td></tr><tr><td>190</td><td>Female</td><td>36</td><td>103</td><td>85</td></tr><tr><td>191</td><td>Female</td><td>34</td><td>103</td><td>23</td></tr><tr><td>192</td><td>Female</td><td>32</td><td>103</td><td>69</td></tr><tr><td>193</td><td>Male</td><td>33</td><td>113</td><td>8</td></tr><tr><td>194</td><td>Female</td><td>38</td><td>113</td><td>91</td></tr><tr><td>195</td><td>Female</td><td>47</td><td>120</td><td>16</td></tr><tr><td>196</td><td>Female</td><td>35</td><td>120</td><td>79</td></tr><tr><td>197</td><td>Female</td><td>45</td><td>126</td><td>28</td></tr><tr><td>198</td><td>Male</td><td>32</td><td>126</td><td>74</td></tr><tr><td>199</td><td>Male</td><td>32</td><td>137</td><td>18</td></tr><tr><td>200</td><td>Male</td><td>30</td><td>137</td><td>83</td></tr></tbody></table></div>"
      ]
     },
     "metadata": {
      "application/vnd.databricks.v1+output": {
       "addedWidgets": {},
       "aggData": [],
       "aggError": "",
       "aggOverflow": false,
       "aggSchema": [],
       "aggSeriesLimitReached": false,
       "aggType": "",
       "arguments": {},
       "columnCustomDisplayInfos": {},
       "data": [
        [
         1,
         "Male",
         19,
         15,
         39
        ],
        [
         2,
         "Male",
         21,
         15,
         81
        ],
        [
         3,
         "Female",
         20,
         16,
         6
        ],
        [
         4,
         "Female",
         23,
         16,
         77
        ],
        [
         5,
         "Female",
         31,
         17,
         40
        ],
        [
         6,
         "Female",
         22,
         17,
         76
        ],
        [
         7,
         "Female",
         35,
         18,
         6
        ],
        [
         8,
         "Female",
         23,
         18,
         94
        ],
        [
         9,
         "Male",
         64,
         19,
         3
        ],
        [
         10,
         "Female",
         30,
         19,
         72
        ],
        [
         11,
         "Male",
         67,
         19,
         14
        ],
        [
         12,
         "Female",
         35,
         19,
         99
        ],
        [
         13,
         "Female",
         58,
         20,
         15
        ],
        [
         14,
         "Female",
         24,
         20,
         77
        ],
        [
         15,
         "Male",
         37,
         20,
         13
        ],
        [
         16,
         "Male",
         22,
         20,
         79
        ],
        [
         17,
         "Female",
         35,
         21,
         35
        ],
        [
         18,
         "Male",
         20,
         21,
         66
        ],
        [
         19,
         "Male",
         52,
         23,
         29
        ],
        [
         20,
         "Female",
         35,
         23,
         98
        ],
        [
         21,
         "Male",
         35,
         24,
         35
        ],
        [
         22,
         "Male",
         25,
         24,
         73
        ],
        [
         23,
         "Female",
         46,
         25,
         5
        ],
        [
         24,
         "Male",
         31,
         25,
         73
        ],
        [
         25,
         "Female",
         54,
         28,
         14
        ],
        [
         26,
         "Male",
         29,
         28,
         82
        ],
        [
         27,
         "Female",
         45,
         28,
         32
        ],
        [
         28,
         "Male",
         35,
         28,
         61
        ],
        [
         29,
         "Female",
         40,
         29,
         31
        ],
        [
         30,
         "Female",
         23,
         29,
         87
        ],
        [
         31,
         "Male",
         60,
         30,
         4
        ],
        [
         32,
         "Female",
         21,
         30,
         73
        ],
        [
         33,
         "Male",
         53,
         33,
         4
        ],
        [
         34,
         "Male",
         18,
         33,
         92
        ],
        [
         35,
         "Female",
         49,
         33,
         14
        ],
        [
         36,
         "Female",
         21,
         33,
         81
        ],
        [
         37,
         "Female",
         42,
         34,
         17
        ],
        [
         38,
         "Female",
         30,
         34,
         73
        ],
        [
         39,
         "Female",
         36,
         37,
         26
        ],
        [
         40,
         "Female",
         20,
         37,
         75
        ],
        [
         41,
         "Female",
         65,
         38,
         35
        ],
        [
         42,
         "Male",
         24,
         38,
         92
        ],
        [
         43,
         "Male",
         48,
         39,
         36
        ],
        [
         44,
         "Female",
         31,
         39,
         61
        ],
        [
         45,
         "Female",
         49,
         39,
         28
        ],
        [
         46,
         "Female",
         24,
         39,
         65
        ],
        [
         47,
         "Female",
         50,
         40,
         55
        ],
        [
         48,
         "Female",
         27,
         40,
         47
        ],
        [
         49,
         "Female",
         29,
         40,
         42
        ],
        [
         50,
         "Female",
         31,
         40,
         42
        ],
        [
         51,
         "Female",
         49,
         42,
         52
        ],
        [
         52,
         "Male",
         33,
         42,
         60
        ],
        [
         53,
         "Female",
         31,
         43,
         54
        ],
        [
         54,
         "Male",
         59,
         43,
         60
        ],
        [
         55,
         "Female",
         50,
         43,
         45
        ],
        [
         56,
         "Male",
         47,
         43,
         41
        ],
        [
         57,
         "Female",
         51,
         44,
         50
        ],
        [
         58,
         "Male",
         69,
         44,
         46
        ],
        [
         59,
         "Female",
         27,
         46,
         51
        ],
        [
         60,
         "Male",
         53,
         46,
         46
        ],
        [
         61,
         "Male",
         70,
         46,
         56
        ],
        [
         62,
         "Male",
         19,
         46,
         55
        ],
        [
         63,
         "Female",
         67,
         47,
         52
        ],
        [
         64,
         "Female",
         54,
         47,
         59
        ],
        [
         65,
         "Male",
         63,
         48,
         51
        ],
        [
         66,
         "Male",
         18,
         48,
         59
        ],
        [
         67,
         "Female",
         43,
         48,
         50
        ],
        [
         68,
         "Female",
         68,
         48,
         48
        ],
        [
         69,
         "Male",
         19,
         48,
         59
        ],
        [
         70,
         "Female",
         32,
         48,
         47
        ],
        [
         71,
         "Male",
         70,
         49,
         55
        ],
        [
         72,
         "Female",
         47,
         49,
         42
        ],
        [
         73,
         "Female",
         60,
         50,
         49
        ],
        [
         74,
         "Female",
         60,
         50,
         56
        ],
        [
         75,
         "Male",
         59,
         54,
         47
        ],
        [
         76,
         "Male",
         26,
         54,
         54
        ],
        [
         77,
         "Female",
         45,
         54,
         53
        ],
        [
         78,
         "Male",
         40,
         54,
         48
        ],
        [
         79,
         "Female",
         23,
         54,
         52
        ],
        [
         80,
         "Female",
         49,
         54,
         42
        ],
        [
         81,
         "Male",
         57,
         54,
         51
        ],
        [
         82,
         "Male",
         38,
         54,
         55
        ],
        [
         83,
         "Male",
         67,
         54,
         41
        ],
        [
         84,
         "Female",
         46,
         54,
         44
        ],
        [
         85,
         "Female",
         21,
         54,
         57
        ],
        [
         86,
         "Male",
         48,
         54,
         46
        ],
        [
         87,
         "Female",
         55,
         57,
         58
        ],
        [
         88,
         "Female",
         22,
         57,
         55
        ],
        [
         89,
         "Female",
         34,
         58,
         60
        ],
        [
         90,
         "Female",
         50,
         58,
         46
        ],
        [
         91,
         "Female",
         68,
         59,
         55
        ],
        [
         92,
         "Male",
         18,
         59,
         41
        ],
        [
         93,
         "Male",
         48,
         60,
         49
        ],
        [
         94,
         "Female",
         40,
         60,
         40
        ],
        [
         95,
         "Female",
         32,
         60,
         42
        ],
        [
         96,
         "Male",
         24,
         60,
         52
        ],
        [
         97,
         "Female",
         47,
         60,
         47
        ],
        [
         98,
         "Female",
         27,
         60,
         50
        ],
        [
         99,
         "Male",
         48,
         61,
         42
        ],
        [
         100,
         "Male",
         20,
         61,
         49
        ],
        [
         101,
         "Female",
         23,
         62,
         41
        ],
        [
         102,
         "Female",
         49,
         62,
         48
        ],
        [
         103,
         "Male",
         67,
         62,
         59
        ],
        [
         104,
         "Male",
         26,
         62,
         55
        ],
        [
         105,
         "Male",
         49,
         62,
         56
        ],
        [
         106,
         "Female",
         21,
         62,
         42
        ],
        [
         107,
         "Female",
         66,
         63,
         50
        ],
        [
         108,
         "Male",
         54,
         63,
         46
        ],
        [
         109,
         "Male",
         68,
         63,
         43
        ],
        [
         110,
         "Male",
         66,
         63,
         48
        ],
        [
         111,
         "Male",
         65,
         63,
         52
        ],
        [
         112,
         "Female",
         19,
         63,
         54
        ],
        [
         113,
         "Female",
         38,
         64,
         42
        ],
        [
         114,
         "Male",
         19,
         64,
         46
        ],
        [
         115,
         "Female",
         18,
         65,
         48
        ],
        [
         116,
         "Female",
         19,
         65,
         50
        ],
        [
         117,
         "Female",
         63,
         65,
         43
        ],
        [
         118,
         "Female",
         49,
         65,
         59
        ],
        [
         119,
         "Female",
         51,
         67,
         43
        ],
        [
         120,
         "Female",
         50,
         67,
         57
        ],
        [
         121,
         "Male",
         27,
         67,
         56
        ],
        [
         122,
         "Female",
         38,
         67,
         40
        ],
        [
         123,
         "Female",
         40,
         69,
         58
        ],
        [
         124,
         "Male",
         39,
         69,
         91
        ],
        [
         125,
         "Female",
         23,
         70,
         29
        ],
        [
         126,
         "Female",
         31,
         70,
         77
        ],
        [
         127,
         "Male",
         43,
         71,
         35
        ],
        [
         128,
         "Male",
         40,
         71,
         95
        ],
        [
         129,
         "Male",
         59,
         71,
         11
        ],
        [
         130,
         "Male",
         38,
         71,
         75
        ],
        [
         131,
         "Male",
         47,
         71,
         9
        ],
        [
         132,
         "Male",
         39,
         71,
         75
        ],
        [
         133,
         "Female",
         25,
         72,
         34
        ],
        [
         134,
         "Female",
         31,
         72,
         71
        ],
        [
         135,
         "Male",
         20,
         73,
         5
        ],
        [
         136,
         "Female",
         29,
         73,
         88
        ],
        [
         137,
         "Female",
         44,
         73,
         7
        ],
        [
         138,
         "Male",
         32,
         73,
         73
        ],
        [
         139,
         "Male",
         19,
         74,
         10
        ],
        [
         140,
         "Female",
         35,
         74,
         72
        ],
        [
         141,
         "Female",
         57,
         75,
         5
        ],
        [
         142,
         "Male",
         32,
         75,
         93
        ],
        [
         143,
         "Female",
         28,
         76,
         40
        ],
        [
         144,
         "Female",
         32,
         76,
         87
        ],
        [
         145,
         "Male",
         25,
         77,
         12
        ],
        [
         146,
         "Male",
         28,
         77,
         97
        ],
        [
         147,
         "Male",
         48,
         77,
         36
        ],
        [
         148,
         "Female",
         32,
         77,
         74
        ],
        [
         149,
         "Female",
         34,
         78,
         22
        ],
        [
         150,
         "Male",
         34,
         78,
         90
        ],
        [
         151,
         "Male",
         43,
         78,
         17
        ],
        [
         152,
         "Male",
         39,
         78,
         88
        ],
        [
         153,
         "Female",
         44,
         78,
         20
        ],
        [
         154,
         "Female",
         38,
         78,
         76
        ],
        [
         155,
         "Female",
         47,
         78,
         16
        ],
        [
         156,
         "Female",
         27,
         78,
         89
        ],
        [
         157,
         "Male",
         37,
         78,
         1
        ],
        [
         158,
         "Female",
         30,
         78,
         78
        ],
        [
         159,
         "Male",
         34,
         78,
         1
        ],
        [
         160,
         "Female",
         30,
         78,
         73
        ],
        [
         161,
         "Female",
         56,
         79,
         35
        ],
        [
         162,
         "Female",
         29,
         79,
         83
        ],
        [
         163,
         "Male",
         19,
         81,
         5
        ],
        [
         164,
         "Female",
         31,
         81,
         93
        ],
        [
         165,
         "Male",
         50,
         85,
         26
        ],
        [
         166,
         "Female",
         36,
         85,
         75
        ],
        [
         167,
         "Male",
         42,
         86,
         20
        ],
        [
         168,
         "Female",
         33,
         86,
         95
        ],
        [
         169,
         "Female",
         36,
         87,
         27
        ],
        [
         170,
         "Male",
         32,
         87,
         63
        ],
        [
         171,
         "Male",
         40,
         87,
         13
        ],
        [
         172,
         "Male",
         28,
         87,
         75
        ],
        [
         173,
         "Male",
         36,
         87,
         10
        ],
        [
         174,
         "Male",
         36,
         87,
         92
        ],
        [
         175,
         "Female",
         52,
         88,
         13
        ],
        [
         176,
         "Female",
         30,
         88,
         86
        ],
        [
         177,
         "Male",
         58,
         88,
         15
        ],
        [
         178,
         "Male",
         27,
         88,
         69
        ],
        [
         179,
         "Male",
         59,
         93,
         14
        ],
        [
         180,
         "Male",
         35,
         93,
         90
        ],
        [
         181,
         "Female",
         37,
         97,
         32
        ],
        [
         182,
         "Female",
         32,
         97,
         86
        ],
        [
         183,
         "Male",
         46,
         98,
         15
        ],
        [
         184,
         "Female",
         29,
         98,
         88
        ],
        [
         185,
         "Female",
         41,
         99,
         39
        ],
        [
         186,
         "Male",
         30,
         99,
         97
        ],
        [
         187,
         "Female",
         54,
         101,
         24
        ],
        [
         188,
         "Male",
         28,
         101,
         68
        ],
        [
         189,
         "Female",
         41,
         103,
         17
        ],
        [
         190,
         "Female",
         36,
         103,
         85
        ],
        [
         191,
         "Female",
         34,
         103,
         23
        ],
        [
         192,
         "Female",
         32,
         103,
         69
        ],
        [
         193,
         "Male",
         33,
         113,
         8
        ],
        [
         194,
         "Female",
         38,
         113,
         91
        ],
        [
         195,
         "Female",
         47,
         120,
         16
        ],
        [
         196,
         "Female",
         35,
         120,
         79
        ],
        [
         197,
         "Female",
         45,
         126,
         28
        ],
        [
         198,
         "Male",
         32,
         126,
         74
        ],
        [
         199,
         "Male",
         32,
         137,
         18
        ],
        [
         200,
         "Male",
         30,
         137,
         83
        ]
       ],
       "datasetInfos": [],
       "dbfsResultPath": null,
       "isJsonSchema": true,
       "metadata": {},
       "overflow": false,
       "plotOptions": {
        "customPlotOptions": {},
        "displayType": "table",
        "pivotAggregation": null,
        "pivotColumns": null,
        "xColumns": null,
        "yColumns": null
       },
       "removedWidgets": [],
       "schema": [
        {
         "metadata": "{}",
         "name": "CustomerID",
         "type": "\"integer\""
        },
        {
         "metadata": "{}",
         "name": "Genre",
         "type": "\"string\""
        },
        {
         "metadata": "{}",
         "name": "Age",
         "type": "\"integer\""
        },
        {
         "metadata": "{}",
         "name": "Annual Income (k$)",
         "type": "\"integer\""
        },
        {
         "metadata": "{}",
         "name": "Spending Score (1-100)",
         "type": "\"integer\""
        }
       ],
       "type": "table"
      }
     },
     "output_type": "display_data"
    }
   ],
   "source": [
    "%sql\n",
    "SELECT * FROM mi_tabla_csv"
   ]
  },
  {
   "cell_type": "markdown",
   "metadata": {
    "application/vnd.databricks.v1+cell": {
     "cellMetadata": {},
     "inputWidgets": {},
     "nuid": "686a6001-6eb1-4c14-a0f7-c8942e868766",
     "showTitle": false,
     "title": ""
    }
   },
   "source": [
    "4. Utiliza el modo SQL del notebook,"
   ]
  },
  {
   "cell_type": "code",
   "execution_count": 0,
   "metadata": {
    "application/vnd.databricks.v1+cell": {
     "cellMetadata": {
      "byteLimit": 2048000,
      "implicitDf": true,
      "rowLimit": 10000
     },
     "inputWidgets": {},
     "nuid": "240ec9fe-6bd8-45ab-8509-001fb43b660c",
     "showTitle": false,
     "title": ""
    }
   },
   "outputs": [
    {
     "output_type": "display_data",
     "data": {
      "text/html": [
       "<style scoped>\n",
       "  .table-result-container {\n",
       "    max-height: 300px;\n",
       "    overflow: auto;\n",
       "  }\n",
       "  table, th, td {\n",
       "    border: 1px solid black;\n",
       "    border-collapse: collapse;\n",
       "  }\n",
       "  th, td {\n",
       "    padding: 5px;\n",
       "  }\n",
       "  th {\n",
       "    text-align: left;\n",
       "  }\n",
       "</style><div class='table-result-container'><table class='table-result'><thead style='background-color: white'><tr><th>CustomerID</th><th>Genre</th><th>Age</th><th>Annual Income (k$)</th><th>Spending Score (1-100)</th></tr></thead><tbody><tr><td>1</td><td>Male</td><td>19</td><td>15</td><td>39</td></tr><tr><td>2</td><td>Male</td><td>21</td><td>15</td><td>81</td></tr><tr><td>9</td><td>Male</td><td>64</td><td>19</td><td>3</td></tr><tr><td>11</td><td>Male</td><td>67</td><td>19</td><td>14</td></tr><tr><td>15</td><td>Male</td><td>37</td><td>20</td><td>13</td></tr><tr><td>16</td><td>Male</td><td>22</td><td>20</td><td>79</td></tr><tr><td>18</td><td>Male</td><td>20</td><td>21</td><td>66</td></tr><tr><td>19</td><td>Male</td><td>52</td><td>23</td><td>29</td></tr><tr><td>21</td><td>Male</td><td>35</td><td>24</td><td>35</td></tr><tr><td>22</td><td>Male</td><td>25</td><td>24</td><td>73</td></tr><tr><td>24</td><td>Male</td><td>31</td><td>25</td><td>73</td></tr><tr><td>26</td><td>Male</td><td>29</td><td>28</td><td>82</td></tr><tr><td>28</td><td>Male</td><td>35</td><td>28</td><td>61</td></tr><tr><td>31</td><td>Male</td><td>60</td><td>30</td><td>4</td></tr><tr><td>33</td><td>Male</td><td>53</td><td>33</td><td>4</td></tr><tr><td>34</td><td>Male</td><td>18</td><td>33</td><td>92</td></tr><tr><td>42</td><td>Male</td><td>24</td><td>38</td><td>92</td></tr><tr><td>43</td><td>Male</td><td>48</td><td>39</td><td>36</td></tr><tr><td>52</td><td>Male</td><td>33</td><td>42</td><td>60</td></tr><tr><td>54</td><td>Male</td><td>59</td><td>43</td><td>60</td></tr><tr><td>56</td><td>Male</td><td>47</td><td>43</td><td>41</td></tr><tr><td>58</td><td>Male</td><td>69</td><td>44</td><td>46</td></tr><tr><td>60</td><td>Male</td><td>53</td><td>46</td><td>46</td></tr><tr><td>61</td><td>Male</td><td>70</td><td>46</td><td>56</td></tr><tr><td>62</td><td>Male</td><td>19</td><td>46</td><td>55</td></tr><tr><td>65</td><td>Male</td><td>63</td><td>48</td><td>51</td></tr><tr><td>66</td><td>Male</td><td>18</td><td>48</td><td>59</td></tr><tr><td>69</td><td>Male</td><td>19</td><td>48</td><td>59</td></tr><tr><td>71</td><td>Male</td><td>70</td><td>49</td><td>55</td></tr><tr><td>75</td><td>Male</td><td>59</td><td>54</td><td>47</td></tr><tr><td>76</td><td>Male</td><td>26</td><td>54</td><td>54</td></tr><tr><td>78</td><td>Male</td><td>40</td><td>54</td><td>48</td></tr><tr><td>81</td><td>Male</td><td>57</td><td>54</td><td>51</td></tr><tr><td>82</td><td>Male</td><td>38</td><td>54</td><td>55</td></tr><tr><td>83</td><td>Male</td><td>67</td><td>54</td><td>41</td></tr><tr><td>86</td><td>Male</td><td>48</td><td>54</td><td>46</td></tr><tr><td>92</td><td>Male</td><td>18</td><td>59</td><td>41</td></tr><tr><td>93</td><td>Male</td><td>48</td><td>60</td><td>49</td></tr><tr><td>96</td><td>Male</td><td>24</td><td>60</td><td>52</td></tr><tr><td>99</td><td>Male</td><td>48</td><td>61</td><td>42</td></tr><tr><td>100</td><td>Male</td><td>20</td><td>61</td><td>49</td></tr><tr><td>103</td><td>Male</td><td>67</td><td>62</td><td>59</td></tr><tr><td>104</td><td>Male</td><td>26</td><td>62</td><td>55</td></tr><tr><td>105</td><td>Male</td><td>49</td><td>62</td><td>56</td></tr><tr><td>108</td><td>Male</td><td>54</td><td>63</td><td>46</td></tr><tr><td>109</td><td>Male</td><td>68</td><td>63</td><td>43</td></tr><tr><td>110</td><td>Male</td><td>66</td><td>63</td><td>48</td></tr><tr><td>111</td><td>Male</td><td>65</td><td>63</td><td>52</td></tr><tr><td>114</td><td>Male</td><td>19</td><td>64</td><td>46</td></tr><tr><td>121</td><td>Male</td><td>27</td><td>67</td><td>56</td></tr><tr><td>124</td><td>Male</td><td>39</td><td>69</td><td>91</td></tr><tr><td>127</td><td>Male</td><td>43</td><td>71</td><td>35</td></tr><tr><td>128</td><td>Male</td><td>40</td><td>71</td><td>95</td></tr><tr><td>129</td><td>Male</td><td>59</td><td>71</td><td>11</td></tr><tr><td>130</td><td>Male</td><td>38</td><td>71</td><td>75</td></tr><tr><td>131</td><td>Male</td><td>47</td><td>71</td><td>9</td></tr><tr><td>132</td><td>Male</td><td>39</td><td>71</td><td>75</td></tr><tr><td>135</td><td>Male</td><td>20</td><td>73</td><td>5</td></tr><tr><td>138</td><td>Male</td><td>32</td><td>73</td><td>73</td></tr><tr><td>139</td><td>Male</td><td>19</td><td>74</td><td>10</td></tr><tr><td>142</td><td>Male</td><td>32</td><td>75</td><td>93</td></tr><tr><td>145</td><td>Male</td><td>25</td><td>77</td><td>12</td></tr><tr><td>146</td><td>Male</td><td>28</td><td>77</td><td>97</td></tr><tr><td>147</td><td>Male</td><td>48</td><td>77</td><td>36</td></tr><tr><td>150</td><td>Male</td><td>34</td><td>78</td><td>90</td></tr><tr><td>151</td><td>Male</td><td>43</td><td>78</td><td>17</td></tr><tr><td>152</td><td>Male</td><td>39</td><td>78</td><td>88</td></tr><tr><td>157</td><td>Male</td><td>37</td><td>78</td><td>1</td></tr><tr><td>159</td><td>Male</td><td>34</td><td>78</td><td>1</td></tr><tr><td>163</td><td>Male</td><td>19</td><td>81</td><td>5</td></tr><tr><td>165</td><td>Male</td><td>50</td><td>85</td><td>26</td></tr><tr><td>167</td><td>Male</td><td>42</td><td>86</td><td>20</td></tr><tr><td>170</td><td>Male</td><td>32</td><td>87</td><td>63</td></tr><tr><td>171</td><td>Male</td><td>40</td><td>87</td><td>13</td></tr><tr><td>172</td><td>Male</td><td>28</td><td>87</td><td>75</td></tr><tr><td>173</td><td>Male</td><td>36</td><td>87</td><td>10</td></tr><tr><td>174</td><td>Male</td><td>36</td><td>87</td><td>92</td></tr><tr><td>177</td><td>Male</td><td>58</td><td>88</td><td>15</td></tr><tr><td>178</td><td>Male</td><td>27</td><td>88</td><td>69</td></tr><tr><td>179</td><td>Male</td><td>59</td><td>93</td><td>14</td></tr><tr><td>180</td><td>Male</td><td>35</td><td>93</td><td>90</td></tr><tr><td>183</td><td>Male</td><td>46</td><td>98</td><td>15</td></tr><tr><td>186</td><td>Male</td><td>30</td><td>99</td><td>97</td></tr><tr><td>188</td><td>Male</td><td>28</td><td>101</td><td>68</td></tr><tr><td>193</td><td>Male</td><td>33</td><td>113</td><td>8</td></tr><tr><td>198</td><td>Male</td><td>32</td><td>126</td><td>74</td></tr><tr><td>199</td><td>Male</td><td>32</td><td>137</td><td>18</td></tr><tr><td>200</td><td>Male</td><td>30</td><td>137</td><td>83</td></tr></tbody></table></div>"
      ]
     },
     "metadata": {
      "application/vnd.databricks.v1+output": {
       "addedWidgets": {},
       "aggData": [],
       "aggError": "",
       "aggOverflow": false,
       "aggSchema": [],
       "aggSeriesLimitReached": false,
       "aggType": "",
       "arguments": {},
       "columnCustomDisplayInfos": {},
       "data": [
        [
         1,
         "Male",
         19,
         15,
         39
        ],
        [
         2,
         "Male",
         21,
         15,
         81
        ],
        [
         9,
         "Male",
         64,
         19,
         3
        ],
        [
         11,
         "Male",
         67,
         19,
         14
        ],
        [
         15,
         "Male",
         37,
         20,
         13
        ],
        [
         16,
         "Male",
         22,
         20,
         79
        ],
        [
         18,
         "Male",
         20,
         21,
         66
        ],
        [
         19,
         "Male",
         52,
         23,
         29
        ],
        [
         21,
         "Male",
         35,
         24,
         35
        ],
        [
         22,
         "Male",
         25,
         24,
         73
        ],
        [
         24,
         "Male",
         31,
         25,
         73
        ],
        [
         26,
         "Male",
         29,
         28,
         82
        ],
        [
         28,
         "Male",
         35,
         28,
         61
        ],
        [
         31,
         "Male",
         60,
         30,
         4
        ],
        [
         33,
         "Male",
         53,
         33,
         4
        ],
        [
         34,
         "Male",
         18,
         33,
         92
        ],
        [
         42,
         "Male",
         24,
         38,
         92
        ],
        [
         43,
         "Male",
         48,
         39,
         36
        ],
        [
         52,
         "Male",
         33,
         42,
         60
        ],
        [
         54,
         "Male",
         59,
         43,
         60
        ],
        [
         56,
         "Male",
         47,
         43,
         41
        ],
        [
         58,
         "Male",
         69,
         44,
         46
        ],
        [
         60,
         "Male",
         53,
         46,
         46
        ],
        [
         61,
         "Male",
         70,
         46,
         56
        ],
        [
         62,
         "Male",
         19,
         46,
         55
        ],
        [
         65,
         "Male",
         63,
         48,
         51
        ],
        [
         66,
         "Male",
         18,
         48,
         59
        ],
        [
         69,
         "Male",
         19,
         48,
         59
        ],
        [
         71,
         "Male",
         70,
         49,
         55
        ],
        [
         75,
         "Male",
         59,
         54,
         47
        ],
        [
         76,
         "Male",
         26,
         54,
         54
        ],
        [
         78,
         "Male",
         40,
         54,
         48
        ],
        [
         81,
         "Male",
         57,
         54,
         51
        ],
        [
         82,
         "Male",
         38,
         54,
         55
        ],
        [
         83,
         "Male",
         67,
         54,
         41
        ],
        [
         86,
         "Male",
         48,
         54,
         46
        ],
        [
         92,
         "Male",
         18,
         59,
         41
        ],
        [
         93,
         "Male",
         48,
         60,
         49
        ],
        [
         96,
         "Male",
         24,
         60,
         52
        ],
        [
         99,
         "Male",
         48,
         61,
         42
        ],
        [
         100,
         "Male",
         20,
         61,
         49
        ],
        [
         103,
         "Male",
         67,
         62,
         59
        ],
        [
         104,
         "Male",
         26,
         62,
         55
        ],
        [
         105,
         "Male",
         49,
         62,
         56
        ],
        [
         108,
         "Male",
         54,
         63,
         46
        ],
        [
         109,
         "Male",
         68,
         63,
         43
        ],
        [
         110,
         "Male",
         66,
         63,
         48
        ],
        [
         111,
         "Male",
         65,
         63,
         52
        ],
        [
         114,
         "Male",
         19,
         64,
         46
        ],
        [
         121,
         "Male",
         27,
         67,
         56
        ],
        [
         124,
         "Male",
         39,
         69,
         91
        ],
        [
         127,
         "Male",
         43,
         71,
         35
        ],
        [
         128,
         "Male",
         40,
         71,
         95
        ],
        [
         129,
         "Male",
         59,
         71,
         11
        ],
        [
         130,
         "Male",
         38,
         71,
         75
        ],
        [
         131,
         "Male",
         47,
         71,
         9
        ],
        [
         132,
         "Male",
         39,
         71,
         75
        ],
        [
         135,
         "Male",
         20,
         73,
         5
        ],
        [
         138,
         "Male",
         32,
         73,
         73
        ],
        [
         139,
         "Male",
         19,
         74,
         10
        ],
        [
         142,
         "Male",
         32,
         75,
         93
        ],
        [
         145,
         "Male",
         25,
         77,
         12
        ],
        [
         146,
         "Male",
         28,
         77,
         97
        ],
        [
         147,
         "Male",
         48,
         77,
         36
        ],
        [
         150,
         "Male",
         34,
         78,
         90
        ],
        [
         151,
         "Male",
         43,
         78,
         17
        ],
        [
         152,
         "Male",
         39,
         78,
         88
        ],
        [
         157,
         "Male",
         37,
         78,
         1
        ],
        [
         159,
         "Male",
         34,
         78,
         1
        ],
        [
         163,
         "Male",
         19,
         81,
         5
        ],
        [
         165,
         "Male",
         50,
         85,
         26
        ],
        [
         167,
         "Male",
         42,
         86,
         20
        ],
        [
         170,
         "Male",
         32,
         87,
         63
        ],
        [
         171,
         "Male",
         40,
         87,
         13
        ],
        [
         172,
         "Male",
         28,
         87,
         75
        ],
        [
         173,
         "Male",
         36,
         87,
         10
        ],
        [
         174,
         "Male",
         36,
         87,
         92
        ],
        [
         177,
         "Male",
         58,
         88,
         15
        ],
        [
         178,
         "Male",
         27,
         88,
         69
        ],
        [
         179,
         "Male",
         59,
         93,
         14
        ],
        [
         180,
         "Male",
         35,
         93,
         90
        ],
        [
         183,
         "Male",
         46,
         98,
         15
        ],
        [
         186,
         "Male",
         30,
         99,
         97
        ],
        [
         188,
         "Male",
         28,
         101,
         68
        ],
        [
         193,
         "Male",
         33,
         113,
         8
        ],
        [
         198,
         "Male",
         32,
         126,
         74
        ],
        [
         199,
         "Male",
         32,
         137,
         18
        ],
        [
         200,
         "Male",
         30,
         137,
         83
        ]
       ],
       "datasetInfos": [],
       "dbfsResultPath": null,
       "isJsonSchema": true,
       "metadata": {},
       "overflow": false,
       "plotOptions": {
        "customPlotOptions": {},
        "displayType": "table",
        "pivotAggregation": null,
        "pivotColumns": null,
        "xColumns": null,
        "yColumns": null
       },
       "removedWidgets": [],
       "schema": [
        {
         "metadata": "{}",
         "name": "CustomerID",
         "type": "\"integer\""
        },
        {
         "metadata": "{}",
         "name": "Genre",
         "type": "\"string\""
        },
        {
         "metadata": "{}",
         "name": "Age",
         "type": "\"integer\""
        },
        {
         "metadata": "{}",
         "name": "Annual Income (k$)",
         "type": "\"integer\""
        },
        {
         "metadata": "{}",
         "name": "Spending Score (1-100)",
         "type": "\"integer\""
        }
       ],
       "type": "table"
      }
     },
     "output_type": "display_data"
    }
   ],
   "source": [
    "%sql\n",
    "SELECT * FROM mi_tabla_csv WHERE Genre = 'Male'"
   ]
  },
  {
   "cell_type": "markdown",
   "metadata": {
    "application/vnd.databricks.v1+cell": {
     "cellMetadata": {},
     "inputWidgets": {},
     "nuid": "ebd20966-cbd4-4c3d-acbb-67c42a4f7758",
     "showTitle": false,
     "title": ""
    }
   },
   "source": [
    "a. Realiza al menos 4 consultas, ejecutando."
   ]
  },
  {
   "cell_type": "markdown",
   "metadata": {
    "application/vnd.databricks.v1+cell": {
     "cellMetadata": {},
     "inputWidgets": {},
     "nuid": "e433b652-a9df-4fd3-a787-dcc735c3ea20",
     "showTitle": false,
     "title": ""
    }
   },
   "source": [
    "1. Filtrar clientes de género masculino (Male) con ingresos superiores a 70k:"
   ]
  },
  {
   "cell_type": "code",
   "execution_count": 0,
   "metadata": {
    "application/vnd.databricks.v1+cell": {
     "cellMetadata": {
      "byteLimit": 2048000,
      "implicitDf": true,
      "rowLimit": 10000
     },
     "inputWidgets": {},
     "nuid": "a499b73f-c678-4b19-867a-646949d4a7c2",
     "showTitle": false,
     "title": ""
    }
   },
   "outputs": [
    {
     "output_type": "display_data",
     "data": {
      "text/html": [
       "<style scoped>\n",
       "  .table-result-container {\n",
       "    max-height: 300px;\n",
       "    overflow: auto;\n",
       "  }\n",
       "  table, th, td {\n",
       "    border: 1px solid black;\n",
       "    border-collapse: collapse;\n",
       "  }\n",
       "  th, td {\n",
       "    padding: 5px;\n",
       "  }\n",
       "  th {\n",
       "    text-align: left;\n",
       "  }\n",
       "</style><div class='table-result-container'><table class='table-result'><thead style='background-color: white'><tr><th>CustomerID</th><th>Age</th><th>Annual Income (k$)</th><th>Spending Score (1-100)</th></tr></thead><tbody><tr><td>127</td><td>43</td><td>71</td><td>35</td></tr><tr><td>128</td><td>40</td><td>71</td><td>95</td></tr><tr><td>129</td><td>59</td><td>71</td><td>11</td></tr><tr><td>130</td><td>38</td><td>71</td><td>75</td></tr><tr><td>131</td><td>47</td><td>71</td><td>9</td></tr><tr><td>132</td><td>39</td><td>71</td><td>75</td></tr><tr><td>135</td><td>20</td><td>73</td><td>5</td></tr><tr><td>138</td><td>32</td><td>73</td><td>73</td></tr><tr><td>139</td><td>19</td><td>74</td><td>10</td></tr><tr><td>142</td><td>32</td><td>75</td><td>93</td></tr><tr><td>145</td><td>25</td><td>77</td><td>12</td></tr><tr><td>146</td><td>28</td><td>77</td><td>97</td></tr><tr><td>147</td><td>48</td><td>77</td><td>36</td></tr><tr><td>150</td><td>34</td><td>78</td><td>90</td></tr><tr><td>151</td><td>43</td><td>78</td><td>17</td></tr><tr><td>152</td><td>39</td><td>78</td><td>88</td></tr><tr><td>157</td><td>37</td><td>78</td><td>1</td></tr><tr><td>159</td><td>34</td><td>78</td><td>1</td></tr><tr><td>163</td><td>19</td><td>81</td><td>5</td></tr><tr><td>165</td><td>50</td><td>85</td><td>26</td></tr><tr><td>167</td><td>42</td><td>86</td><td>20</td></tr><tr><td>170</td><td>32</td><td>87</td><td>63</td></tr><tr><td>171</td><td>40</td><td>87</td><td>13</td></tr><tr><td>172</td><td>28</td><td>87</td><td>75</td></tr><tr><td>173</td><td>36</td><td>87</td><td>10</td></tr><tr><td>174</td><td>36</td><td>87</td><td>92</td></tr><tr><td>177</td><td>58</td><td>88</td><td>15</td></tr><tr><td>178</td><td>27</td><td>88</td><td>69</td></tr><tr><td>179</td><td>59</td><td>93</td><td>14</td></tr><tr><td>180</td><td>35</td><td>93</td><td>90</td></tr><tr><td>183</td><td>46</td><td>98</td><td>15</td></tr><tr><td>186</td><td>30</td><td>99</td><td>97</td></tr><tr><td>188</td><td>28</td><td>101</td><td>68</td></tr><tr><td>193</td><td>33</td><td>113</td><td>8</td></tr><tr><td>198</td><td>32</td><td>126</td><td>74</td></tr><tr><td>199</td><td>32</td><td>137</td><td>18</td></tr><tr><td>200</td><td>30</td><td>137</td><td>83</td></tr></tbody></table></div>"
      ]
     },
     "metadata": {
      "application/vnd.databricks.v1+output": {
       "addedWidgets": {},
       "aggData": [],
       "aggError": "",
       "aggOverflow": false,
       "aggSchema": [],
       "aggSeriesLimitReached": false,
       "aggType": "",
       "arguments": {},
       "columnCustomDisplayInfos": {},
       "data": [
        [
         127,
         43,
         71,
         35
        ],
        [
         128,
         40,
         71,
         95
        ],
        [
         129,
         59,
         71,
         11
        ],
        [
         130,
         38,
         71,
         75
        ],
        [
         131,
         47,
         71,
         9
        ],
        [
         132,
         39,
         71,
         75
        ],
        [
         135,
         20,
         73,
         5
        ],
        [
         138,
         32,
         73,
         73
        ],
        [
         139,
         19,
         74,
         10
        ],
        [
         142,
         32,
         75,
         93
        ],
        [
         145,
         25,
         77,
         12
        ],
        [
         146,
         28,
         77,
         97
        ],
        [
         147,
         48,
         77,
         36
        ],
        [
         150,
         34,
         78,
         90
        ],
        [
         151,
         43,
         78,
         17
        ],
        [
         152,
         39,
         78,
         88
        ],
        [
         157,
         37,
         78,
         1
        ],
        [
         159,
         34,
         78,
         1
        ],
        [
         163,
         19,
         81,
         5
        ],
        [
         165,
         50,
         85,
         26
        ],
        [
         167,
         42,
         86,
         20
        ],
        [
         170,
         32,
         87,
         63
        ],
        [
         171,
         40,
         87,
         13
        ],
        [
         172,
         28,
         87,
         75
        ],
        [
         173,
         36,
         87,
         10
        ],
        [
         174,
         36,
         87,
         92
        ],
        [
         177,
         58,
         88,
         15
        ],
        [
         178,
         27,
         88,
         69
        ],
        [
         179,
         59,
         93,
         14
        ],
        [
         180,
         35,
         93,
         90
        ],
        [
         183,
         46,
         98,
         15
        ],
        [
         186,
         30,
         99,
         97
        ],
        [
         188,
         28,
         101,
         68
        ],
        [
         193,
         33,
         113,
         8
        ],
        [
         198,
         32,
         126,
         74
        ],
        [
         199,
         32,
         137,
         18
        ],
        [
         200,
         30,
         137,
         83
        ]
       ],
       "datasetInfos": [],
       "dbfsResultPath": null,
       "isJsonSchema": true,
       "metadata": {},
       "overflow": false,
       "plotOptions": {
        "customPlotOptions": {},
        "displayType": "table",
        "pivotAggregation": null,
        "pivotColumns": null,
        "xColumns": null,
        "yColumns": null
       },
       "removedWidgets": [],
       "schema": [
        {
         "metadata": "{}",
         "name": "CustomerID",
         "type": "\"integer\""
        },
        {
         "metadata": "{}",
         "name": "Age",
         "type": "\"integer\""
        },
        {
         "metadata": "{}",
         "name": "Annual Income (k$)",
         "type": "\"integer\""
        },
        {
         "metadata": "{}",
         "name": "Spending Score (1-100)",
         "type": "\"integer\""
        }
       ],
       "type": "table"
      }
     },
     "output_type": "display_data"
    }
   ],
   "source": [
    "%sql\n",
    "SELECT CustomerID, Age, `Annual Income (k$)`, `Spending Score (1-100)` \n",
    "FROM mi_tabla_csv \n",
    "WHERE Genre = 'Male' AND `Annual Income (k$)` > 70"
   ]
  },
  {
   "cell_type": "markdown",
   "metadata": {
    "application/vnd.databricks.v1+cell": {
     "cellMetadata": {},
     "inputWidgets": {},
     "nuid": "d0ce9aef-4f5b-4666-94e8-4a3a6467e280",
     "showTitle": false,
     "title": ""
    }
   },
   "source": [
    "2. Obtener el ingreso promedio y el puntaje de gasto promedio por género:"
   ]
  },
  {
   "cell_type": "code",
   "execution_count": 0,
   "metadata": {
    "application/vnd.databricks.v1+cell": {
     "cellMetadata": {
      "byteLimit": 2048000,
      "implicitDf": true,
      "rowLimit": 10000
     },
     "inputWidgets": {},
     "nuid": "dd9b0085-8da3-4ff5-90e9-b44b3e66bf12",
     "showTitle": false,
     "title": ""
    }
   },
   "outputs": [
    {
     "output_type": "display_data",
     "data": {
      "text/html": [
       "<style scoped>\n",
       "  .table-result-container {\n",
       "    max-height: 300px;\n",
       "    overflow: auto;\n",
       "  }\n",
       "  table, th, td {\n",
       "    border: 1px solid black;\n",
       "    border-collapse: collapse;\n",
       "  }\n",
       "  th, td {\n",
       "    padding: 5px;\n",
       "  }\n",
       "  th {\n",
       "    text-align: left;\n",
       "  }\n",
       "</style><div class='table-result-container'><table class='table-result'><thead style='background-color: white'><tr><th>Genre</th><th>Ingreso_Promedio</th><th>Puntaje_Promedio</th></tr></thead><tbody><tr><td>Female</td><td>59.25</td><td>51.526785714285715</td></tr><tr><td>Male</td><td>62.22727272727273</td><td>48.51136363636363</td></tr></tbody></table></div>"
      ]
     },
     "metadata": {
      "application/vnd.databricks.v1+output": {
       "addedWidgets": {},
       "aggData": [],
       "aggError": "",
       "aggOverflow": false,
       "aggSchema": [],
       "aggSeriesLimitReached": false,
       "aggType": "",
       "arguments": {},
       "columnCustomDisplayInfos": {},
       "data": [
        [
         "Female",
         59.25,
         51.526785714285715
        ],
        [
         "Male",
         62.22727272727273,
         48.51136363636363
        ]
       ],
       "datasetInfos": [],
       "dbfsResultPath": null,
       "isJsonSchema": true,
       "metadata": {},
       "overflow": false,
       "plotOptions": {
        "customPlotOptions": {},
        "displayType": "table",
        "pivotAggregation": null,
        "pivotColumns": null,
        "xColumns": null,
        "yColumns": null
       },
       "removedWidgets": [],
       "schema": [
        {
         "metadata": "{}",
         "name": "Genre",
         "type": "\"string\""
        },
        {
         "metadata": "{}",
         "name": "Ingreso_Promedio",
         "type": "\"double\""
        },
        {
         "metadata": "{}",
         "name": "Puntaje_Promedio",
         "type": "\"double\""
        }
       ],
       "type": "table"
      }
     },
     "output_type": "display_data"
    }
   ],
   "source": [
    "%sql\n",
    "SELECT Genre, AVG(`Annual Income (k$)`) AS Ingreso_Promedio, AVG(`Spending Score (1-100)`) AS Puntaje_Promedio \n",
    "FROM mi_tabla_csv \n",
    "GROUP BY Genre"
   ]
  },
  {
   "cell_type": "markdown",
   "metadata": {
    "application/vnd.databricks.v1+cell": {
     "cellMetadata": {},
     "inputWidgets": {},
     "nuid": "7c861675-1b33-41ed-8cea-d9472f3ff34a",
     "showTitle": false,
     "title": ""
    }
   },
   "source": [
    "3. Ordenar los clientes por el puntaje de gasto en orden descendente:"
   ]
  },
  {
   "cell_type": "code",
   "execution_count": 0,
   "metadata": {
    "application/vnd.databricks.v1+cell": {
     "cellMetadata": {
      "byteLimit": 2048000,
      "implicitDf": true,
      "rowLimit": 10000
     },
     "inputWidgets": {},
     "nuid": "02c9758e-7e93-4631-9c03-fe31ea3a6db8",
     "showTitle": false,
     "title": ""
    }
   },
   "outputs": [
    {
     "output_type": "display_data",
     "data": {
      "text/html": [
       "<style scoped>\n",
       "  .table-result-container {\n",
       "    max-height: 300px;\n",
       "    overflow: auto;\n",
       "  }\n",
       "  table, th, td {\n",
       "    border: 1px solid black;\n",
       "    border-collapse: collapse;\n",
       "  }\n",
       "  th, td {\n",
       "    padding: 5px;\n",
       "  }\n",
       "  th {\n",
       "    text-align: left;\n",
       "  }\n",
       "</style><div class='table-result-container'><table class='table-result'><thead style='background-color: white'><tr><th>CustomerID</th><th>Age</th><th>Spending Score (1-100)</th></tr></thead><tbody><tr><td>12</td><td>35</td><td>99</td></tr><tr><td>20</td><td>35</td><td>98</td></tr><tr><td>146</td><td>28</td><td>97</td></tr><tr><td>186</td><td>30</td><td>97</td></tr><tr><td>128</td><td>40</td><td>95</td></tr><tr><td>168</td><td>33</td><td>95</td></tr><tr><td>8</td><td>23</td><td>94</td></tr><tr><td>142</td><td>32</td><td>93</td></tr><tr><td>164</td><td>31</td><td>93</td></tr><tr><td>34</td><td>18</td><td>92</td></tr><tr><td>42</td><td>24</td><td>92</td></tr><tr><td>174</td><td>36</td><td>92</td></tr><tr><td>124</td><td>39</td><td>91</td></tr><tr><td>194</td><td>38</td><td>91</td></tr><tr><td>150</td><td>34</td><td>90</td></tr><tr><td>180</td><td>35</td><td>90</td></tr><tr><td>156</td><td>27</td><td>89</td></tr><tr><td>136</td><td>29</td><td>88</td></tr><tr><td>152</td><td>39</td><td>88</td></tr><tr><td>184</td><td>29</td><td>88</td></tr><tr><td>30</td><td>23</td><td>87</td></tr><tr><td>144</td><td>32</td><td>87</td></tr><tr><td>176</td><td>30</td><td>86</td></tr><tr><td>182</td><td>32</td><td>86</td></tr><tr><td>190</td><td>36</td><td>85</td></tr><tr><td>162</td><td>29</td><td>83</td></tr><tr><td>200</td><td>30</td><td>83</td></tr><tr><td>26</td><td>29</td><td>82</td></tr><tr><td>2</td><td>21</td><td>81</td></tr><tr><td>36</td><td>21</td><td>81</td></tr><tr><td>16</td><td>22</td><td>79</td></tr><tr><td>196</td><td>35</td><td>79</td></tr><tr><td>158</td><td>30</td><td>78</td></tr><tr><td>4</td><td>23</td><td>77</td></tr><tr><td>14</td><td>24</td><td>77</td></tr><tr><td>126</td><td>31</td><td>77</td></tr><tr><td>6</td><td>22</td><td>76</td></tr><tr><td>154</td><td>38</td><td>76</td></tr><tr><td>40</td><td>20</td><td>75</td></tr><tr><td>130</td><td>38</td><td>75</td></tr><tr><td>132</td><td>39</td><td>75</td></tr><tr><td>166</td><td>36</td><td>75</td></tr><tr><td>172</td><td>28</td><td>75</td></tr><tr><td>148</td><td>32</td><td>74</td></tr><tr><td>198</td><td>32</td><td>74</td></tr><tr><td>22</td><td>25</td><td>73</td></tr><tr><td>24</td><td>31</td><td>73</td></tr><tr><td>32</td><td>21</td><td>73</td></tr><tr><td>38</td><td>30</td><td>73</td></tr><tr><td>138</td><td>32</td><td>73</td></tr><tr><td>160</td><td>30</td><td>73</td></tr><tr><td>10</td><td>30</td><td>72</td></tr><tr><td>140</td><td>35</td><td>72</td></tr><tr><td>134</td><td>31</td><td>71</td></tr><tr><td>178</td><td>27</td><td>69</td></tr><tr><td>192</td><td>32</td><td>69</td></tr><tr><td>188</td><td>28</td><td>68</td></tr><tr><td>18</td><td>20</td><td>66</td></tr><tr><td>46</td><td>24</td><td>65</td></tr><tr><td>170</td><td>32</td><td>63</td></tr><tr><td>28</td><td>35</td><td>61</td></tr><tr><td>44</td><td>31</td><td>61</td></tr><tr><td>52</td><td>33</td><td>60</td></tr><tr><td>54</td><td>59</td><td>60</td></tr><tr><td>89</td><td>34</td><td>60</td></tr><tr><td>64</td><td>54</td><td>59</td></tr><tr><td>66</td><td>18</td><td>59</td></tr><tr><td>69</td><td>19</td><td>59</td></tr><tr><td>103</td><td>67</td><td>59</td></tr><tr><td>118</td><td>49</td><td>59</td></tr><tr><td>87</td><td>55</td><td>58</td></tr><tr><td>123</td><td>40</td><td>58</td></tr><tr><td>85</td><td>21</td><td>57</td></tr><tr><td>120</td><td>50</td><td>57</td></tr><tr><td>61</td><td>70</td><td>56</td></tr><tr><td>74</td><td>60</td><td>56</td></tr><tr><td>105</td><td>49</td><td>56</td></tr><tr><td>121</td><td>27</td><td>56</td></tr><tr><td>47</td><td>50</td><td>55</td></tr><tr><td>62</td><td>19</td><td>55</td></tr><tr><td>71</td><td>70</td><td>55</td></tr><tr><td>82</td><td>38</td><td>55</td></tr><tr><td>88</td><td>22</td><td>55</td></tr><tr><td>91</td><td>68</td><td>55</td></tr><tr><td>104</td><td>26</td><td>55</td></tr><tr><td>53</td><td>31</td><td>54</td></tr><tr><td>76</td><td>26</td><td>54</td></tr><tr><td>112</td><td>19</td><td>54</td></tr><tr><td>77</td><td>45</td><td>53</td></tr><tr><td>51</td><td>49</td><td>52</td></tr><tr><td>63</td><td>67</td><td>52</td></tr><tr><td>79</td><td>23</td><td>52</td></tr><tr><td>96</td><td>24</td><td>52</td></tr><tr><td>111</td><td>65</td><td>52</td></tr><tr><td>59</td><td>27</td><td>51</td></tr><tr><td>65</td><td>63</td><td>51</td></tr><tr><td>81</td><td>57</td><td>51</td></tr><tr><td>57</td><td>51</td><td>50</td></tr><tr><td>67</td><td>43</td><td>50</td></tr><tr><td>98</td><td>27</td><td>50</td></tr><tr><td>107</td><td>66</td><td>50</td></tr><tr><td>116</td><td>19</td><td>50</td></tr><tr><td>73</td><td>60</td><td>49</td></tr><tr><td>93</td><td>48</td><td>49</td></tr><tr><td>100</td><td>20</td><td>49</td></tr><tr><td>68</td><td>68</td><td>48</td></tr><tr><td>78</td><td>40</td><td>48</td></tr><tr><td>102</td><td>49</td><td>48</td></tr><tr><td>110</td><td>66</td><td>48</td></tr><tr><td>115</td><td>18</td><td>48</td></tr><tr><td>48</td><td>27</td><td>47</td></tr><tr><td>70</td><td>32</td><td>47</td></tr><tr><td>75</td><td>59</td><td>47</td></tr><tr><td>97</td><td>47</td><td>47</td></tr><tr><td>58</td><td>69</td><td>46</td></tr><tr><td>60</td><td>53</td><td>46</td></tr><tr><td>86</td><td>48</td><td>46</td></tr><tr><td>90</td><td>50</td><td>46</td></tr><tr><td>108</td><td>54</td><td>46</td></tr><tr><td>114</td><td>19</td><td>46</td></tr><tr><td>55</td><td>50</td><td>45</td></tr><tr><td>84</td><td>46</td><td>44</td></tr><tr><td>109</td><td>68</td><td>43</td></tr><tr><td>117</td><td>63</td><td>43</td></tr><tr><td>119</td><td>51</td><td>43</td></tr><tr><td>49</td><td>29</td><td>42</td></tr><tr><td>50</td><td>31</td><td>42</td></tr><tr><td>72</td><td>47</td><td>42</td></tr><tr><td>80</td><td>49</td><td>42</td></tr><tr><td>95</td><td>32</td><td>42</td></tr><tr><td>99</td><td>48</td><td>42</td></tr><tr><td>106</td><td>21</td><td>42</td></tr><tr><td>113</td><td>38</td><td>42</td></tr><tr><td>56</td><td>47</td><td>41</td></tr><tr><td>83</td><td>67</td><td>41</td></tr><tr><td>92</td><td>18</td><td>41</td></tr><tr><td>101</td><td>23</td><td>41</td></tr><tr><td>5</td><td>31</td><td>40</td></tr><tr><td>94</td><td>40</td><td>40</td></tr><tr><td>122</td><td>38</td><td>40</td></tr><tr><td>143</td><td>28</td><td>40</td></tr><tr><td>1</td><td>19</td><td>39</td></tr><tr><td>185</td><td>41</td><td>39</td></tr><tr><td>43</td><td>48</td><td>36</td></tr><tr><td>147</td><td>48</td><td>36</td></tr><tr><td>17</td><td>35</td><td>35</td></tr><tr><td>21</td><td>35</td><td>35</td></tr><tr><td>41</td><td>65</td><td>35</td></tr><tr><td>127</td><td>43</td><td>35</td></tr><tr><td>161</td><td>56</td><td>35</td></tr><tr><td>133</td><td>25</td><td>34</td></tr><tr><td>27</td><td>45</td><td>32</td></tr><tr><td>181</td><td>37</td><td>32</td></tr><tr><td>29</td><td>40</td><td>31</td></tr><tr><td>19</td><td>52</td><td>29</td></tr><tr><td>125</td><td>23</td><td>29</td></tr><tr><td>45</td><td>49</td><td>28</td></tr><tr><td>197</td><td>45</td><td>28</td></tr><tr><td>169</td><td>36</td><td>27</td></tr><tr><td>39</td><td>36</td><td>26</td></tr><tr><td>165</td><td>50</td><td>26</td></tr><tr><td>187</td><td>54</td><td>24</td></tr><tr><td>191</td><td>34</td><td>23</td></tr><tr><td>149</td><td>34</td><td>22</td></tr><tr><td>153</td><td>44</td><td>20</td></tr><tr><td>167</td><td>42</td><td>20</td></tr><tr><td>199</td><td>32</td><td>18</td></tr><tr><td>37</td><td>42</td><td>17</td></tr><tr><td>151</td><td>43</td><td>17</td></tr><tr><td>189</td><td>41</td><td>17</td></tr><tr><td>155</td><td>47</td><td>16</td></tr><tr><td>195</td><td>47</td><td>16</td></tr><tr><td>13</td><td>58</td><td>15</td></tr><tr><td>177</td><td>58</td><td>15</td></tr><tr><td>183</td><td>46</td><td>15</td></tr><tr><td>11</td><td>67</td><td>14</td></tr><tr><td>25</td><td>54</td><td>14</td></tr><tr><td>35</td><td>49</td><td>14</td></tr><tr><td>179</td><td>59</td><td>14</td></tr><tr><td>15</td><td>37</td><td>13</td></tr><tr><td>171</td><td>40</td><td>13</td></tr><tr><td>175</td><td>52</td><td>13</td></tr><tr><td>145</td><td>25</td><td>12</td></tr><tr><td>129</td><td>59</td><td>11</td></tr><tr><td>139</td><td>19</td><td>10</td></tr><tr><td>173</td><td>36</td><td>10</td></tr><tr><td>131</td><td>47</td><td>9</td></tr><tr><td>193</td><td>33</td><td>8</td></tr><tr><td>137</td><td>44</td><td>7</td></tr><tr><td>3</td><td>20</td><td>6</td></tr><tr><td>7</td><td>35</td><td>6</td></tr><tr><td>23</td><td>46</td><td>5</td></tr><tr><td>135</td><td>20</td><td>5</td></tr><tr><td>141</td><td>57</td><td>5</td></tr><tr><td>163</td><td>19</td><td>5</td></tr><tr><td>31</td><td>60</td><td>4</td></tr><tr><td>33</td><td>53</td><td>4</td></tr><tr><td>9</td><td>64</td><td>3</td></tr><tr><td>157</td><td>37</td><td>1</td></tr><tr><td>159</td><td>34</td><td>1</td></tr></tbody></table></div>"
      ]
     },
     "metadata": {
      "application/vnd.databricks.v1+output": {
       "addedWidgets": {},
       "aggData": [],
       "aggError": "",
       "aggOverflow": false,
       "aggSchema": [],
       "aggSeriesLimitReached": false,
       "aggType": "",
       "arguments": {},
       "columnCustomDisplayInfos": {},
       "data": [
        [
         12,
         35,
         99
        ],
        [
         20,
         35,
         98
        ],
        [
         146,
         28,
         97
        ],
        [
         186,
         30,
         97
        ],
        [
         128,
         40,
         95
        ],
        [
         168,
         33,
         95
        ],
        [
         8,
         23,
         94
        ],
        [
         142,
         32,
         93
        ],
        [
         164,
         31,
         93
        ],
        [
         34,
         18,
         92
        ],
        [
         42,
         24,
         92
        ],
        [
         174,
         36,
         92
        ],
        [
         124,
         39,
         91
        ],
        [
         194,
         38,
         91
        ],
        [
         150,
         34,
         90
        ],
        [
         180,
         35,
         90
        ],
        [
         156,
         27,
         89
        ],
        [
         136,
         29,
         88
        ],
        [
         152,
         39,
         88
        ],
        [
         184,
         29,
         88
        ],
        [
         30,
         23,
         87
        ],
        [
         144,
         32,
         87
        ],
        [
         176,
         30,
         86
        ],
        [
         182,
         32,
         86
        ],
        [
         190,
         36,
         85
        ],
        [
         162,
         29,
         83
        ],
        [
         200,
         30,
         83
        ],
        [
         26,
         29,
         82
        ],
        [
         2,
         21,
         81
        ],
        [
         36,
         21,
         81
        ],
        [
         16,
         22,
         79
        ],
        [
         196,
         35,
         79
        ],
        [
         158,
         30,
         78
        ],
        [
         4,
         23,
         77
        ],
        [
         14,
         24,
         77
        ],
        [
         126,
         31,
         77
        ],
        [
         6,
         22,
         76
        ],
        [
         154,
         38,
         76
        ],
        [
         40,
         20,
         75
        ],
        [
         130,
         38,
         75
        ],
        [
         132,
         39,
         75
        ],
        [
         166,
         36,
         75
        ],
        [
         172,
         28,
         75
        ],
        [
         148,
         32,
         74
        ],
        [
         198,
         32,
         74
        ],
        [
         22,
         25,
         73
        ],
        [
         24,
         31,
         73
        ],
        [
         32,
         21,
         73
        ],
        [
         38,
         30,
         73
        ],
        [
         138,
         32,
         73
        ],
        [
         160,
         30,
         73
        ],
        [
         10,
         30,
         72
        ],
        [
         140,
         35,
         72
        ],
        [
         134,
         31,
         71
        ],
        [
         178,
         27,
         69
        ],
        [
         192,
         32,
         69
        ],
        [
         188,
         28,
         68
        ],
        [
         18,
         20,
         66
        ],
        [
         46,
         24,
         65
        ],
        [
         170,
         32,
         63
        ],
        [
         28,
         35,
         61
        ],
        [
         44,
         31,
         61
        ],
        [
         52,
         33,
         60
        ],
        [
         54,
         59,
         60
        ],
        [
         89,
         34,
         60
        ],
        [
         64,
         54,
         59
        ],
        [
         66,
         18,
         59
        ],
        [
         69,
         19,
         59
        ],
        [
         103,
         67,
         59
        ],
        [
         118,
         49,
         59
        ],
        [
         87,
         55,
         58
        ],
        [
         123,
         40,
         58
        ],
        [
         85,
         21,
         57
        ],
        [
         120,
         50,
         57
        ],
        [
         61,
         70,
         56
        ],
        [
         74,
         60,
         56
        ],
        [
         105,
         49,
         56
        ],
        [
         121,
         27,
         56
        ],
        [
         47,
         50,
         55
        ],
        [
         62,
         19,
         55
        ],
        [
         71,
         70,
         55
        ],
        [
         82,
         38,
         55
        ],
        [
         88,
         22,
         55
        ],
        [
         91,
         68,
         55
        ],
        [
         104,
         26,
         55
        ],
        [
         53,
         31,
         54
        ],
        [
         76,
         26,
         54
        ],
        [
         112,
         19,
         54
        ],
        [
         77,
         45,
         53
        ],
        [
         51,
         49,
         52
        ],
        [
         63,
         67,
         52
        ],
        [
         79,
         23,
         52
        ],
        [
         96,
         24,
         52
        ],
        [
         111,
         65,
         52
        ],
        [
         59,
         27,
         51
        ],
        [
         65,
         63,
         51
        ],
        [
         81,
         57,
         51
        ],
        [
         57,
         51,
         50
        ],
        [
         67,
         43,
         50
        ],
        [
         98,
         27,
         50
        ],
        [
         107,
         66,
         50
        ],
        [
         116,
         19,
         50
        ],
        [
         73,
         60,
         49
        ],
        [
         93,
         48,
         49
        ],
        [
         100,
         20,
         49
        ],
        [
         68,
         68,
         48
        ],
        [
         78,
         40,
         48
        ],
        [
         102,
         49,
         48
        ],
        [
         110,
         66,
         48
        ],
        [
         115,
         18,
         48
        ],
        [
         48,
         27,
         47
        ],
        [
         70,
         32,
         47
        ],
        [
         75,
         59,
         47
        ],
        [
         97,
         47,
         47
        ],
        [
         58,
         69,
         46
        ],
        [
         60,
         53,
         46
        ],
        [
         86,
         48,
         46
        ],
        [
         90,
         50,
         46
        ],
        [
         108,
         54,
         46
        ],
        [
         114,
         19,
         46
        ],
        [
         55,
         50,
         45
        ],
        [
         84,
         46,
         44
        ],
        [
         109,
         68,
         43
        ],
        [
         117,
         63,
         43
        ],
        [
         119,
         51,
         43
        ],
        [
         49,
         29,
         42
        ],
        [
         50,
         31,
         42
        ],
        [
         72,
         47,
         42
        ],
        [
         80,
         49,
         42
        ],
        [
         95,
         32,
         42
        ],
        [
         99,
         48,
         42
        ],
        [
         106,
         21,
         42
        ],
        [
         113,
         38,
         42
        ],
        [
         56,
         47,
         41
        ],
        [
         83,
         67,
         41
        ],
        [
         92,
         18,
         41
        ],
        [
         101,
         23,
         41
        ],
        [
         5,
         31,
         40
        ],
        [
         94,
         40,
         40
        ],
        [
         122,
         38,
         40
        ],
        [
         143,
         28,
         40
        ],
        [
         1,
         19,
         39
        ],
        [
         185,
         41,
         39
        ],
        [
         43,
         48,
         36
        ],
        [
         147,
         48,
         36
        ],
        [
         17,
         35,
         35
        ],
        [
         21,
         35,
         35
        ],
        [
         41,
         65,
         35
        ],
        [
         127,
         43,
         35
        ],
        [
         161,
         56,
         35
        ],
        [
         133,
         25,
         34
        ],
        [
         27,
         45,
         32
        ],
        [
         181,
         37,
         32
        ],
        [
         29,
         40,
         31
        ],
        [
         19,
         52,
         29
        ],
        [
         125,
         23,
         29
        ],
        [
         45,
         49,
         28
        ],
        [
         197,
         45,
         28
        ],
        [
         169,
         36,
         27
        ],
        [
         39,
         36,
         26
        ],
        [
         165,
         50,
         26
        ],
        [
         187,
         54,
         24
        ],
        [
         191,
         34,
         23
        ],
        [
         149,
         34,
         22
        ],
        [
         153,
         44,
         20
        ],
        [
         167,
         42,
         20
        ],
        [
         199,
         32,
         18
        ],
        [
         37,
         42,
         17
        ],
        [
         151,
         43,
         17
        ],
        [
         189,
         41,
         17
        ],
        [
         155,
         47,
         16
        ],
        [
         195,
         47,
         16
        ],
        [
         13,
         58,
         15
        ],
        [
         177,
         58,
         15
        ],
        [
         183,
         46,
         15
        ],
        [
         11,
         67,
         14
        ],
        [
         25,
         54,
         14
        ],
        [
         35,
         49,
         14
        ],
        [
         179,
         59,
         14
        ],
        [
         15,
         37,
         13
        ],
        [
         171,
         40,
         13
        ],
        [
         175,
         52,
         13
        ],
        [
         145,
         25,
         12
        ],
        [
         129,
         59,
         11
        ],
        [
         139,
         19,
         10
        ],
        [
         173,
         36,
         10
        ],
        [
         131,
         47,
         9
        ],
        [
         193,
         33,
         8
        ],
        [
         137,
         44,
         7
        ],
        [
         3,
         20,
         6
        ],
        [
         7,
         35,
         6
        ],
        [
         23,
         46,
         5
        ],
        [
         135,
         20,
         5
        ],
        [
         141,
         57,
         5
        ],
        [
         163,
         19,
         5
        ],
        [
         31,
         60,
         4
        ],
        [
         33,
         53,
         4
        ],
        [
         9,
         64,
         3
        ],
        [
         157,
         37,
         1
        ],
        [
         159,
         34,
         1
        ]
       ],
       "datasetInfos": [],
       "dbfsResultPath": null,
       "isJsonSchema": true,
       "metadata": {},
       "overflow": false,
       "plotOptions": {
        "customPlotOptions": {},
        "displayType": "table",
        "pivotAggregation": null,
        "pivotColumns": null,
        "xColumns": null,
        "yColumns": null
       },
       "removedWidgets": [],
       "schema": [
        {
         "metadata": "{}",
         "name": "CustomerID",
         "type": "\"integer\""
        },
        {
         "metadata": "{}",
         "name": "Age",
         "type": "\"integer\""
        },
        {
         "metadata": "{}",
         "name": "Spending Score (1-100)",
         "type": "\"integer\""
        }
       ],
       "type": "table"
      }
     },
     "output_type": "display_data"
    }
   ],
   "source": [
    "%sql\n",
    "SELECT CustomerID, Age, `Spending Score (1-100)` \n",
    "FROM mi_tabla_csv \n",
    "ORDER BY `Spending Score (1-100)` DESC"
   ]
  },
  {
   "cell_type": "markdown",
   "metadata": {
    "application/vnd.databricks.v1+cell": {
     "cellMetadata": {},
     "inputWidgets": {},
     "nuid": "8d4a65f8-aeb6-45a1-a960-6b3d88ba5639",
     "showTitle": false,
     "title": ""
    }
   },
   "source": [
    "4. Obtener los clientes con el mayor ingreso anual y su respectivo puntaje de gasto:"
   ]
  },
  {
   "cell_type": "code",
   "execution_count": 0,
   "metadata": {
    "application/vnd.databricks.v1+cell": {
     "cellMetadata": {
      "byteLimit": 2048000,
      "implicitDf": true,
      "rowLimit": 10000
     },
     "inputWidgets": {},
     "nuid": "ac393006-68da-4b37-aa89-a31e26443abe",
     "showTitle": false,
     "title": ""
    }
   },
   "outputs": [
    {
     "output_type": "display_data",
     "data": {
      "text/html": [
       "<style scoped>\n",
       "  .table-result-container {\n",
       "    max-height: 300px;\n",
       "    overflow: auto;\n",
       "  }\n",
       "  table, th, td {\n",
       "    border: 1px solid black;\n",
       "    border-collapse: collapse;\n",
       "  }\n",
       "  th, td {\n",
       "    padding: 5px;\n",
       "  }\n",
       "  th {\n",
       "    text-align: left;\n",
       "  }\n",
       "</style><div class='table-result-container'><table class='table-result'><thead style='background-color: white'><tr><th>CustomerID</th><th>Annual Income (k$)</th><th>Spending Score (1-100)</th></tr></thead><tbody><tr><td>200</td><td>137</td><td>83</td></tr><tr><td>199</td><td>137</td><td>18</td></tr><tr><td>197</td><td>126</td><td>28</td></tr><tr><td>198</td><td>126</td><td>74</td></tr><tr><td>195</td><td>120</td><td>16</td></tr></tbody></table></div>"
      ]
     },
     "metadata": {
      "application/vnd.databricks.v1+output": {
       "addedWidgets": {},
       "aggData": [],
       "aggError": "",
       "aggOverflow": false,
       "aggSchema": [],
       "aggSeriesLimitReached": false,
       "aggType": "",
       "arguments": {},
       "columnCustomDisplayInfos": {},
       "data": [
        [
         200,
         137,
         83
        ],
        [
         199,
         137,
         18
        ],
        [
         197,
         126,
         28
        ],
        [
         198,
         126,
         74
        ],
        [
         195,
         120,
         16
        ]
       ],
       "datasetInfos": [],
       "dbfsResultPath": null,
       "isJsonSchema": true,
       "metadata": {},
       "overflow": false,
       "plotOptions": {
        "customPlotOptions": {},
        "displayType": "table",
        "pivotAggregation": null,
        "pivotColumns": null,
        "xColumns": null,
        "yColumns": null
       },
       "removedWidgets": [],
       "schema": [
        {
         "metadata": "{}",
         "name": "CustomerID",
         "type": "\"integer\""
        },
        {
         "metadata": "{}",
         "name": "Annual Income (k$)",
         "type": "\"integer\""
        },
        {
         "metadata": "{}",
         "name": "Spending Score (1-100)",
         "type": "\"integer\""
        }
       ],
       "type": "table"
      }
     },
     "output_type": "display_data"
    }
   ],
   "source": [
    "%sql\n",
    "SELECT CustomerID, `Annual Income (k$)`, `Spending Score (1-100)` \n",
    "FROM mi_tabla_csv \n",
    "ORDER BY `Annual Income (k$)` DESC \n",
    "LIMIT 5"
   ]
  },
  {
   "cell_type": "markdown",
   "metadata": {
    "application/vnd.databricks.v1+cell": {
     "cellMetadata": {},
     "inputWidgets": {},
     "nuid": "cc344e6b-d540-4c7c-be5e-bbe4889aca2f",
     "showTitle": false,
     "title": ""
    }
   },
   "source": [
    "b. Crea una tabla temporal mediante la inserción de los datos de la vista temporal"
   ]
  },
  {
   "cell_type": "code",
   "execution_count": 0,
   "metadata": {
    "application/vnd.databricks.v1+cell": {
     "cellMetadata": {
      "byteLimit": 2048000,
      "implicitDf": true,
      "rowLimit": 10000
     },
     "inputWidgets": {},
     "nuid": "505264ed-80ce-46a7-b91d-9308caa558c9",
     "showTitle": false,
     "title": ""
    }
   },
   "outputs": [
    {
     "output_type": "display_data",
     "data": {
      "text/html": [
       "<style scoped>\n",
       "  .table-result-container {\n",
       "    max-height: 300px;\n",
       "    overflow: auto;\n",
       "  }\n",
       "  table, th, td {\n",
       "    border: 1px solid black;\n",
       "    border-collapse: collapse;\n",
       "  }\n",
       "  th, td {\n",
       "    padding: 5px;\n",
       "  }\n",
       "  th {\n",
       "    text-align: left;\n",
       "  }\n",
       "</style><div class='table-result-container'><table class='table-result'><thead style='background-color: white'><tr></tr></thead><tbody></tbody></table></div>"
      ]
     },
     "metadata": {
      "application/vnd.databricks.v1+output": {
       "addedWidgets": {},
       "aggData": [],
       "aggError": "",
       "aggOverflow": false,
       "aggSchema": [],
       "aggSeriesLimitReached": false,
       "aggType": "",
       "arguments": {},
       "columnCustomDisplayInfos": {},
       "data": [],
       "datasetInfos": [],
       "dbfsResultPath": null,
       "isJsonSchema": true,
       "metadata": {},
       "overflow": false,
       "plotOptions": {
        "customPlotOptions": {},
        "displayType": "table",
        "pivotAggregation": null,
        "pivotColumns": null,
        "xColumns": null,
        "yColumns": null
       },
       "removedWidgets": [],
       "schema": [],
       "type": "table"
      }
     },
     "output_type": "display_data"
    }
   ],
   "source": [
    "%sql\n",
    "CREATE OR REPLACE TEMPORARY VIEW mi_vista_temporal AS\n",
    "SELECT * FROM mi_tabla_csv"
   ]
  },
  {
   "cell_type": "code",
   "execution_count": 0,
   "metadata": {
    "application/vnd.databricks.v1+cell": {
     "cellMetadata": {
      "byteLimit": 2048000,
      "implicitDf": true,
      "rowLimit": 10000
     },
     "inputWidgets": {},
     "nuid": "54e192c1-2525-4783-a410-bf9315142490",
     "showTitle": false,
     "title": ""
    }
   },
   "outputs": [
    {
     "output_type": "display_data",
     "data": {
      "text/html": [
       "<style scoped>\n",
       "  .table-result-container {\n",
       "    max-height: 300px;\n",
       "    overflow: auto;\n",
       "  }\n",
       "  table, th, td {\n",
       "    border: 1px solid black;\n",
       "    border-collapse: collapse;\n",
       "  }\n",
       "  th, td {\n",
       "    padding: 5px;\n",
       "  }\n",
       "  th {\n",
       "    text-align: left;\n",
       "  }\n",
       "</style><div class='table-result-container'><table class='table-result'><thead style='background-color: white'><tr><th>CustomerID</th><th>Genre</th><th>Age</th><th>Annual Income (k$)</th><th>Spending Score (1-100)</th></tr></thead><tbody><tr><td>1</td><td>Male</td><td>19</td><td>15</td><td>39</td></tr><tr><td>2</td><td>Male</td><td>21</td><td>15</td><td>81</td></tr><tr><td>3</td><td>Female</td><td>20</td><td>16</td><td>6</td></tr><tr><td>4</td><td>Female</td><td>23</td><td>16</td><td>77</td></tr><tr><td>5</td><td>Female</td><td>31</td><td>17</td><td>40</td></tr><tr><td>6</td><td>Female</td><td>22</td><td>17</td><td>76</td></tr><tr><td>7</td><td>Female</td><td>35</td><td>18</td><td>6</td></tr><tr><td>8</td><td>Female</td><td>23</td><td>18</td><td>94</td></tr><tr><td>9</td><td>Male</td><td>64</td><td>19</td><td>3</td></tr><tr><td>10</td><td>Female</td><td>30</td><td>19</td><td>72</td></tr><tr><td>11</td><td>Male</td><td>67</td><td>19</td><td>14</td></tr><tr><td>12</td><td>Female</td><td>35</td><td>19</td><td>99</td></tr><tr><td>13</td><td>Female</td><td>58</td><td>20</td><td>15</td></tr><tr><td>14</td><td>Female</td><td>24</td><td>20</td><td>77</td></tr><tr><td>15</td><td>Male</td><td>37</td><td>20</td><td>13</td></tr><tr><td>16</td><td>Male</td><td>22</td><td>20</td><td>79</td></tr><tr><td>17</td><td>Female</td><td>35</td><td>21</td><td>35</td></tr><tr><td>18</td><td>Male</td><td>20</td><td>21</td><td>66</td></tr><tr><td>19</td><td>Male</td><td>52</td><td>23</td><td>29</td></tr><tr><td>20</td><td>Female</td><td>35</td><td>23</td><td>98</td></tr><tr><td>21</td><td>Male</td><td>35</td><td>24</td><td>35</td></tr><tr><td>22</td><td>Male</td><td>25</td><td>24</td><td>73</td></tr><tr><td>23</td><td>Female</td><td>46</td><td>25</td><td>5</td></tr><tr><td>24</td><td>Male</td><td>31</td><td>25</td><td>73</td></tr><tr><td>25</td><td>Female</td><td>54</td><td>28</td><td>14</td></tr><tr><td>26</td><td>Male</td><td>29</td><td>28</td><td>82</td></tr><tr><td>27</td><td>Female</td><td>45</td><td>28</td><td>32</td></tr><tr><td>28</td><td>Male</td><td>35</td><td>28</td><td>61</td></tr><tr><td>29</td><td>Female</td><td>40</td><td>29</td><td>31</td></tr><tr><td>30</td><td>Female</td><td>23</td><td>29</td><td>87</td></tr><tr><td>31</td><td>Male</td><td>60</td><td>30</td><td>4</td></tr><tr><td>32</td><td>Female</td><td>21</td><td>30</td><td>73</td></tr><tr><td>33</td><td>Male</td><td>53</td><td>33</td><td>4</td></tr><tr><td>34</td><td>Male</td><td>18</td><td>33</td><td>92</td></tr><tr><td>35</td><td>Female</td><td>49</td><td>33</td><td>14</td></tr><tr><td>36</td><td>Female</td><td>21</td><td>33</td><td>81</td></tr><tr><td>37</td><td>Female</td><td>42</td><td>34</td><td>17</td></tr><tr><td>38</td><td>Female</td><td>30</td><td>34</td><td>73</td></tr><tr><td>39</td><td>Female</td><td>36</td><td>37</td><td>26</td></tr><tr><td>40</td><td>Female</td><td>20</td><td>37</td><td>75</td></tr><tr><td>41</td><td>Female</td><td>65</td><td>38</td><td>35</td></tr><tr><td>42</td><td>Male</td><td>24</td><td>38</td><td>92</td></tr><tr><td>43</td><td>Male</td><td>48</td><td>39</td><td>36</td></tr><tr><td>44</td><td>Female</td><td>31</td><td>39</td><td>61</td></tr><tr><td>45</td><td>Female</td><td>49</td><td>39</td><td>28</td></tr><tr><td>46</td><td>Female</td><td>24</td><td>39</td><td>65</td></tr><tr><td>47</td><td>Female</td><td>50</td><td>40</td><td>55</td></tr><tr><td>48</td><td>Female</td><td>27</td><td>40</td><td>47</td></tr><tr><td>49</td><td>Female</td><td>29</td><td>40</td><td>42</td></tr><tr><td>50</td><td>Female</td><td>31</td><td>40</td><td>42</td></tr><tr><td>51</td><td>Female</td><td>49</td><td>42</td><td>52</td></tr><tr><td>52</td><td>Male</td><td>33</td><td>42</td><td>60</td></tr><tr><td>53</td><td>Female</td><td>31</td><td>43</td><td>54</td></tr><tr><td>54</td><td>Male</td><td>59</td><td>43</td><td>60</td></tr><tr><td>55</td><td>Female</td><td>50</td><td>43</td><td>45</td></tr><tr><td>56</td><td>Male</td><td>47</td><td>43</td><td>41</td></tr><tr><td>57</td><td>Female</td><td>51</td><td>44</td><td>50</td></tr><tr><td>58</td><td>Male</td><td>69</td><td>44</td><td>46</td></tr><tr><td>59</td><td>Female</td><td>27</td><td>46</td><td>51</td></tr><tr><td>60</td><td>Male</td><td>53</td><td>46</td><td>46</td></tr><tr><td>61</td><td>Male</td><td>70</td><td>46</td><td>56</td></tr><tr><td>62</td><td>Male</td><td>19</td><td>46</td><td>55</td></tr><tr><td>63</td><td>Female</td><td>67</td><td>47</td><td>52</td></tr><tr><td>64</td><td>Female</td><td>54</td><td>47</td><td>59</td></tr><tr><td>65</td><td>Male</td><td>63</td><td>48</td><td>51</td></tr><tr><td>66</td><td>Male</td><td>18</td><td>48</td><td>59</td></tr><tr><td>67</td><td>Female</td><td>43</td><td>48</td><td>50</td></tr><tr><td>68</td><td>Female</td><td>68</td><td>48</td><td>48</td></tr><tr><td>69</td><td>Male</td><td>19</td><td>48</td><td>59</td></tr><tr><td>70</td><td>Female</td><td>32</td><td>48</td><td>47</td></tr><tr><td>71</td><td>Male</td><td>70</td><td>49</td><td>55</td></tr><tr><td>72</td><td>Female</td><td>47</td><td>49</td><td>42</td></tr><tr><td>73</td><td>Female</td><td>60</td><td>50</td><td>49</td></tr><tr><td>74</td><td>Female</td><td>60</td><td>50</td><td>56</td></tr><tr><td>75</td><td>Male</td><td>59</td><td>54</td><td>47</td></tr><tr><td>76</td><td>Male</td><td>26</td><td>54</td><td>54</td></tr><tr><td>77</td><td>Female</td><td>45</td><td>54</td><td>53</td></tr><tr><td>78</td><td>Male</td><td>40</td><td>54</td><td>48</td></tr><tr><td>79</td><td>Female</td><td>23</td><td>54</td><td>52</td></tr><tr><td>80</td><td>Female</td><td>49</td><td>54</td><td>42</td></tr><tr><td>81</td><td>Male</td><td>57</td><td>54</td><td>51</td></tr><tr><td>82</td><td>Male</td><td>38</td><td>54</td><td>55</td></tr><tr><td>83</td><td>Male</td><td>67</td><td>54</td><td>41</td></tr><tr><td>84</td><td>Female</td><td>46</td><td>54</td><td>44</td></tr><tr><td>85</td><td>Female</td><td>21</td><td>54</td><td>57</td></tr><tr><td>86</td><td>Male</td><td>48</td><td>54</td><td>46</td></tr><tr><td>87</td><td>Female</td><td>55</td><td>57</td><td>58</td></tr><tr><td>88</td><td>Female</td><td>22</td><td>57</td><td>55</td></tr><tr><td>89</td><td>Female</td><td>34</td><td>58</td><td>60</td></tr><tr><td>90</td><td>Female</td><td>50</td><td>58</td><td>46</td></tr><tr><td>91</td><td>Female</td><td>68</td><td>59</td><td>55</td></tr><tr><td>92</td><td>Male</td><td>18</td><td>59</td><td>41</td></tr><tr><td>93</td><td>Male</td><td>48</td><td>60</td><td>49</td></tr><tr><td>94</td><td>Female</td><td>40</td><td>60</td><td>40</td></tr><tr><td>95</td><td>Female</td><td>32</td><td>60</td><td>42</td></tr><tr><td>96</td><td>Male</td><td>24</td><td>60</td><td>52</td></tr><tr><td>97</td><td>Female</td><td>47</td><td>60</td><td>47</td></tr><tr><td>98</td><td>Female</td><td>27</td><td>60</td><td>50</td></tr><tr><td>99</td><td>Male</td><td>48</td><td>61</td><td>42</td></tr><tr><td>100</td><td>Male</td><td>20</td><td>61</td><td>49</td></tr><tr><td>101</td><td>Female</td><td>23</td><td>62</td><td>41</td></tr><tr><td>102</td><td>Female</td><td>49</td><td>62</td><td>48</td></tr><tr><td>103</td><td>Male</td><td>67</td><td>62</td><td>59</td></tr><tr><td>104</td><td>Male</td><td>26</td><td>62</td><td>55</td></tr><tr><td>105</td><td>Male</td><td>49</td><td>62</td><td>56</td></tr><tr><td>106</td><td>Female</td><td>21</td><td>62</td><td>42</td></tr><tr><td>107</td><td>Female</td><td>66</td><td>63</td><td>50</td></tr><tr><td>108</td><td>Male</td><td>54</td><td>63</td><td>46</td></tr><tr><td>109</td><td>Male</td><td>68</td><td>63</td><td>43</td></tr><tr><td>110</td><td>Male</td><td>66</td><td>63</td><td>48</td></tr><tr><td>111</td><td>Male</td><td>65</td><td>63</td><td>52</td></tr><tr><td>112</td><td>Female</td><td>19</td><td>63</td><td>54</td></tr><tr><td>113</td><td>Female</td><td>38</td><td>64</td><td>42</td></tr><tr><td>114</td><td>Male</td><td>19</td><td>64</td><td>46</td></tr><tr><td>115</td><td>Female</td><td>18</td><td>65</td><td>48</td></tr><tr><td>116</td><td>Female</td><td>19</td><td>65</td><td>50</td></tr><tr><td>117</td><td>Female</td><td>63</td><td>65</td><td>43</td></tr><tr><td>118</td><td>Female</td><td>49</td><td>65</td><td>59</td></tr><tr><td>119</td><td>Female</td><td>51</td><td>67</td><td>43</td></tr><tr><td>120</td><td>Female</td><td>50</td><td>67</td><td>57</td></tr><tr><td>121</td><td>Male</td><td>27</td><td>67</td><td>56</td></tr><tr><td>122</td><td>Female</td><td>38</td><td>67</td><td>40</td></tr><tr><td>123</td><td>Female</td><td>40</td><td>69</td><td>58</td></tr><tr><td>124</td><td>Male</td><td>39</td><td>69</td><td>91</td></tr><tr><td>125</td><td>Female</td><td>23</td><td>70</td><td>29</td></tr><tr><td>126</td><td>Female</td><td>31</td><td>70</td><td>77</td></tr><tr><td>127</td><td>Male</td><td>43</td><td>71</td><td>35</td></tr><tr><td>128</td><td>Male</td><td>40</td><td>71</td><td>95</td></tr><tr><td>129</td><td>Male</td><td>59</td><td>71</td><td>11</td></tr><tr><td>130</td><td>Male</td><td>38</td><td>71</td><td>75</td></tr><tr><td>131</td><td>Male</td><td>47</td><td>71</td><td>9</td></tr><tr><td>132</td><td>Male</td><td>39</td><td>71</td><td>75</td></tr><tr><td>133</td><td>Female</td><td>25</td><td>72</td><td>34</td></tr><tr><td>134</td><td>Female</td><td>31</td><td>72</td><td>71</td></tr><tr><td>135</td><td>Male</td><td>20</td><td>73</td><td>5</td></tr><tr><td>136</td><td>Female</td><td>29</td><td>73</td><td>88</td></tr><tr><td>137</td><td>Female</td><td>44</td><td>73</td><td>7</td></tr><tr><td>138</td><td>Male</td><td>32</td><td>73</td><td>73</td></tr><tr><td>139</td><td>Male</td><td>19</td><td>74</td><td>10</td></tr><tr><td>140</td><td>Female</td><td>35</td><td>74</td><td>72</td></tr><tr><td>141</td><td>Female</td><td>57</td><td>75</td><td>5</td></tr><tr><td>142</td><td>Male</td><td>32</td><td>75</td><td>93</td></tr><tr><td>143</td><td>Female</td><td>28</td><td>76</td><td>40</td></tr><tr><td>144</td><td>Female</td><td>32</td><td>76</td><td>87</td></tr><tr><td>145</td><td>Male</td><td>25</td><td>77</td><td>12</td></tr><tr><td>146</td><td>Male</td><td>28</td><td>77</td><td>97</td></tr><tr><td>147</td><td>Male</td><td>48</td><td>77</td><td>36</td></tr><tr><td>148</td><td>Female</td><td>32</td><td>77</td><td>74</td></tr><tr><td>149</td><td>Female</td><td>34</td><td>78</td><td>22</td></tr><tr><td>150</td><td>Male</td><td>34</td><td>78</td><td>90</td></tr><tr><td>151</td><td>Male</td><td>43</td><td>78</td><td>17</td></tr><tr><td>152</td><td>Male</td><td>39</td><td>78</td><td>88</td></tr><tr><td>153</td><td>Female</td><td>44</td><td>78</td><td>20</td></tr><tr><td>154</td><td>Female</td><td>38</td><td>78</td><td>76</td></tr><tr><td>155</td><td>Female</td><td>47</td><td>78</td><td>16</td></tr><tr><td>156</td><td>Female</td><td>27</td><td>78</td><td>89</td></tr><tr><td>157</td><td>Male</td><td>37</td><td>78</td><td>1</td></tr><tr><td>158</td><td>Female</td><td>30</td><td>78</td><td>78</td></tr><tr><td>159</td><td>Male</td><td>34</td><td>78</td><td>1</td></tr><tr><td>160</td><td>Female</td><td>30</td><td>78</td><td>73</td></tr><tr><td>161</td><td>Female</td><td>56</td><td>79</td><td>35</td></tr><tr><td>162</td><td>Female</td><td>29</td><td>79</td><td>83</td></tr><tr><td>163</td><td>Male</td><td>19</td><td>81</td><td>5</td></tr><tr><td>164</td><td>Female</td><td>31</td><td>81</td><td>93</td></tr><tr><td>165</td><td>Male</td><td>50</td><td>85</td><td>26</td></tr><tr><td>166</td><td>Female</td><td>36</td><td>85</td><td>75</td></tr><tr><td>167</td><td>Male</td><td>42</td><td>86</td><td>20</td></tr><tr><td>168</td><td>Female</td><td>33</td><td>86</td><td>95</td></tr><tr><td>169</td><td>Female</td><td>36</td><td>87</td><td>27</td></tr><tr><td>170</td><td>Male</td><td>32</td><td>87</td><td>63</td></tr><tr><td>171</td><td>Male</td><td>40</td><td>87</td><td>13</td></tr><tr><td>172</td><td>Male</td><td>28</td><td>87</td><td>75</td></tr><tr><td>173</td><td>Male</td><td>36</td><td>87</td><td>10</td></tr><tr><td>174</td><td>Male</td><td>36</td><td>87</td><td>92</td></tr><tr><td>175</td><td>Female</td><td>52</td><td>88</td><td>13</td></tr><tr><td>176</td><td>Female</td><td>30</td><td>88</td><td>86</td></tr><tr><td>177</td><td>Male</td><td>58</td><td>88</td><td>15</td></tr><tr><td>178</td><td>Male</td><td>27</td><td>88</td><td>69</td></tr><tr><td>179</td><td>Male</td><td>59</td><td>93</td><td>14</td></tr><tr><td>180</td><td>Male</td><td>35</td><td>93</td><td>90</td></tr><tr><td>181</td><td>Female</td><td>37</td><td>97</td><td>32</td></tr><tr><td>182</td><td>Female</td><td>32</td><td>97</td><td>86</td></tr><tr><td>183</td><td>Male</td><td>46</td><td>98</td><td>15</td></tr><tr><td>184</td><td>Female</td><td>29</td><td>98</td><td>88</td></tr><tr><td>185</td><td>Female</td><td>41</td><td>99</td><td>39</td></tr><tr><td>186</td><td>Male</td><td>30</td><td>99</td><td>97</td></tr><tr><td>187</td><td>Female</td><td>54</td><td>101</td><td>24</td></tr><tr><td>188</td><td>Male</td><td>28</td><td>101</td><td>68</td></tr><tr><td>189</td><td>Female</td><td>41</td><td>103</td><td>17</td></tr><tr><td>190</td><td>Female</td><td>36</td><td>103</td><td>85</td></tr><tr><td>191</td><td>Female</td><td>34</td><td>103</td><td>23</td></tr><tr><td>192</td><td>Female</td><td>32</td><td>103</td><td>69</td></tr><tr><td>193</td><td>Male</td><td>33</td><td>113</td><td>8</td></tr><tr><td>194</td><td>Female</td><td>38</td><td>113</td><td>91</td></tr><tr><td>195</td><td>Female</td><td>47</td><td>120</td><td>16</td></tr><tr><td>196</td><td>Female</td><td>35</td><td>120</td><td>79</td></tr><tr><td>197</td><td>Female</td><td>45</td><td>126</td><td>28</td></tr><tr><td>198</td><td>Male</td><td>32</td><td>126</td><td>74</td></tr><tr><td>199</td><td>Male</td><td>32</td><td>137</td><td>18</td></tr><tr><td>200</td><td>Male</td><td>30</td><td>137</td><td>83</td></tr></tbody></table></div>"
      ]
     },
     "metadata": {
      "application/vnd.databricks.v1+output": {
       "addedWidgets": {},
       "aggData": [],
       "aggError": "",
       "aggOverflow": false,
       "aggSchema": [],
       "aggSeriesLimitReached": false,
       "aggType": "",
       "arguments": {},
       "columnCustomDisplayInfos": {},
       "data": [
        [
         1,
         "Male",
         19,
         15,
         39
        ],
        [
         2,
         "Male",
         21,
         15,
         81
        ],
        [
         3,
         "Female",
         20,
         16,
         6
        ],
        [
         4,
         "Female",
         23,
         16,
         77
        ],
        [
         5,
         "Female",
         31,
         17,
         40
        ],
        [
         6,
         "Female",
         22,
         17,
         76
        ],
        [
         7,
         "Female",
         35,
         18,
         6
        ],
        [
         8,
         "Female",
         23,
         18,
         94
        ],
        [
         9,
         "Male",
         64,
         19,
         3
        ],
        [
         10,
         "Female",
         30,
         19,
         72
        ],
        [
         11,
         "Male",
         67,
         19,
         14
        ],
        [
         12,
         "Female",
         35,
         19,
         99
        ],
        [
         13,
         "Female",
         58,
         20,
         15
        ],
        [
         14,
         "Female",
         24,
         20,
         77
        ],
        [
         15,
         "Male",
         37,
         20,
         13
        ],
        [
         16,
         "Male",
         22,
         20,
         79
        ],
        [
         17,
         "Female",
         35,
         21,
         35
        ],
        [
         18,
         "Male",
         20,
         21,
         66
        ],
        [
         19,
         "Male",
         52,
         23,
         29
        ],
        [
         20,
         "Female",
         35,
         23,
         98
        ],
        [
         21,
         "Male",
         35,
         24,
         35
        ],
        [
         22,
         "Male",
         25,
         24,
         73
        ],
        [
         23,
         "Female",
         46,
         25,
         5
        ],
        [
         24,
         "Male",
         31,
         25,
         73
        ],
        [
         25,
         "Female",
         54,
         28,
         14
        ],
        [
         26,
         "Male",
         29,
         28,
         82
        ],
        [
         27,
         "Female",
         45,
         28,
         32
        ],
        [
         28,
         "Male",
         35,
         28,
         61
        ],
        [
         29,
         "Female",
         40,
         29,
         31
        ],
        [
         30,
         "Female",
         23,
         29,
         87
        ],
        [
         31,
         "Male",
         60,
         30,
         4
        ],
        [
         32,
         "Female",
         21,
         30,
         73
        ],
        [
         33,
         "Male",
         53,
         33,
         4
        ],
        [
         34,
         "Male",
         18,
         33,
         92
        ],
        [
         35,
         "Female",
         49,
         33,
         14
        ],
        [
         36,
         "Female",
         21,
         33,
         81
        ],
        [
         37,
         "Female",
         42,
         34,
         17
        ],
        [
         38,
         "Female",
         30,
         34,
         73
        ],
        [
         39,
         "Female",
         36,
         37,
         26
        ],
        [
         40,
         "Female",
         20,
         37,
         75
        ],
        [
         41,
         "Female",
         65,
         38,
         35
        ],
        [
         42,
         "Male",
         24,
         38,
         92
        ],
        [
         43,
         "Male",
         48,
         39,
         36
        ],
        [
         44,
         "Female",
         31,
         39,
         61
        ],
        [
         45,
         "Female",
         49,
         39,
         28
        ],
        [
         46,
         "Female",
         24,
         39,
         65
        ],
        [
         47,
         "Female",
         50,
         40,
         55
        ],
        [
         48,
         "Female",
         27,
         40,
         47
        ],
        [
         49,
         "Female",
         29,
         40,
         42
        ],
        [
         50,
         "Female",
         31,
         40,
         42
        ],
        [
         51,
         "Female",
         49,
         42,
         52
        ],
        [
         52,
         "Male",
         33,
         42,
         60
        ],
        [
         53,
         "Female",
         31,
         43,
         54
        ],
        [
         54,
         "Male",
         59,
         43,
         60
        ],
        [
         55,
         "Female",
         50,
         43,
         45
        ],
        [
         56,
         "Male",
         47,
         43,
         41
        ],
        [
         57,
         "Female",
         51,
         44,
         50
        ],
        [
         58,
         "Male",
         69,
         44,
         46
        ],
        [
         59,
         "Female",
         27,
         46,
         51
        ],
        [
         60,
         "Male",
         53,
         46,
         46
        ],
        [
         61,
         "Male",
         70,
         46,
         56
        ],
        [
         62,
         "Male",
         19,
         46,
         55
        ],
        [
         63,
         "Female",
         67,
         47,
         52
        ],
        [
         64,
         "Female",
         54,
         47,
         59
        ],
        [
         65,
         "Male",
         63,
         48,
         51
        ],
        [
         66,
         "Male",
         18,
         48,
         59
        ],
        [
         67,
         "Female",
         43,
         48,
         50
        ],
        [
         68,
         "Female",
         68,
         48,
         48
        ],
        [
         69,
         "Male",
         19,
         48,
         59
        ],
        [
         70,
         "Female",
         32,
         48,
         47
        ],
        [
         71,
         "Male",
         70,
         49,
         55
        ],
        [
         72,
         "Female",
         47,
         49,
         42
        ],
        [
         73,
         "Female",
         60,
         50,
         49
        ],
        [
         74,
         "Female",
         60,
         50,
         56
        ],
        [
         75,
         "Male",
         59,
         54,
         47
        ],
        [
         76,
         "Male",
         26,
         54,
         54
        ],
        [
         77,
         "Female",
         45,
         54,
         53
        ],
        [
         78,
         "Male",
         40,
         54,
         48
        ],
        [
         79,
         "Female",
         23,
         54,
         52
        ],
        [
         80,
         "Female",
         49,
         54,
         42
        ],
        [
         81,
         "Male",
         57,
         54,
         51
        ],
        [
         82,
         "Male",
         38,
         54,
         55
        ],
        [
         83,
         "Male",
         67,
         54,
         41
        ],
        [
         84,
         "Female",
         46,
         54,
         44
        ],
        [
         85,
         "Female",
         21,
         54,
         57
        ],
        [
         86,
         "Male",
         48,
         54,
         46
        ],
        [
         87,
         "Female",
         55,
         57,
         58
        ],
        [
         88,
         "Female",
         22,
         57,
         55
        ],
        [
         89,
         "Female",
         34,
         58,
         60
        ],
        [
         90,
         "Female",
         50,
         58,
         46
        ],
        [
         91,
         "Female",
         68,
         59,
         55
        ],
        [
         92,
         "Male",
         18,
         59,
         41
        ],
        [
         93,
         "Male",
         48,
         60,
         49
        ],
        [
         94,
         "Female",
         40,
         60,
         40
        ],
        [
         95,
         "Female",
         32,
         60,
         42
        ],
        [
         96,
         "Male",
         24,
         60,
         52
        ],
        [
         97,
         "Female",
         47,
         60,
         47
        ],
        [
         98,
         "Female",
         27,
         60,
         50
        ],
        [
         99,
         "Male",
         48,
         61,
         42
        ],
        [
         100,
         "Male",
         20,
         61,
         49
        ],
        [
         101,
         "Female",
         23,
         62,
         41
        ],
        [
         102,
         "Female",
         49,
         62,
         48
        ],
        [
         103,
         "Male",
         67,
         62,
         59
        ],
        [
         104,
         "Male",
         26,
         62,
         55
        ],
        [
         105,
         "Male",
         49,
         62,
         56
        ],
        [
         106,
         "Female",
         21,
         62,
         42
        ],
        [
         107,
         "Female",
         66,
         63,
         50
        ],
        [
         108,
         "Male",
         54,
         63,
         46
        ],
        [
         109,
         "Male",
         68,
         63,
         43
        ],
        [
         110,
         "Male",
         66,
         63,
         48
        ],
        [
         111,
         "Male",
         65,
         63,
         52
        ],
        [
         112,
         "Female",
         19,
         63,
         54
        ],
        [
         113,
         "Female",
         38,
         64,
         42
        ],
        [
         114,
         "Male",
         19,
         64,
         46
        ],
        [
         115,
         "Female",
         18,
         65,
         48
        ],
        [
         116,
         "Female",
         19,
         65,
         50
        ],
        [
         117,
         "Female",
         63,
         65,
         43
        ],
        [
         118,
         "Female",
         49,
         65,
         59
        ],
        [
         119,
         "Female",
         51,
         67,
         43
        ],
        [
         120,
         "Female",
         50,
         67,
         57
        ],
        [
         121,
         "Male",
         27,
         67,
         56
        ],
        [
         122,
         "Female",
         38,
         67,
         40
        ],
        [
         123,
         "Female",
         40,
         69,
         58
        ],
        [
         124,
         "Male",
         39,
         69,
         91
        ],
        [
         125,
         "Female",
         23,
         70,
         29
        ],
        [
         126,
         "Female",
         31,
         70,
         77
        ],
        [
         127,
         "Male",
         43,
         71,
         35
        ],
        [
         128,
         "Male",
         40,
         71,
         95
        ],
        [
         129,
         "Male",
         59,
         71,
         11
        ],
        [
         130,
         "Male",
         38,
         71,
         75
        ],
        [
         131,
         "Male",
         47,
         71,
         9
        ],
        [
         132,
         "Male",
         39,
         71,
         75
        ],
        [
         133,
         "Female",
         25,
         72,
         34
        ],
        [
         134,
         "Female",
         31,
         72,
         71
        ],
        [
         135,
         "Male",
         20,
         73,
         5
        ],
        [
         136,
         "Female",
         29,
         73,
         88
        ],
        [
         137,
         "Female",
         44,
         73,
         7
        ],
        [
         138,
         "Male",
         32,
         73,
         73
        ],
        [
         139,
         "Male",
         19,
         74,
         10
        ],
        [
         140,
         "Female",
         35,
         74,
         72
        ],
        [
         141,
         "Female",
         57,
         75,
         5
        ],
        [
         142,
         "Male",
         32,
         75,
         93
        ],
        [
         143,
         "Female",
         28,
         76,
         40
        ],
        [
         144,
         "Female",
         32,
         76,
         87
        ],
        [
         145,
         "Male",
         25,
         77,
         12
        ],
        [
         146,
         "Male",
         28,
         77,
         97
        ],
        [
         147,
         "Male",
         48,
         77,
         36
        ],
        [
         148,
         "Female",
         32,
         77,
         74
        ],
        [
         149,
         "Female",
         34,
         78,
         22
        ],
        [
         150,
         "Male",
         34,
         78,
         90
        ],
        [
         151,
         "Male",
         43,
         78,
         17
        ],
        [
         152,
         "Male",
         39,
         78,
         88
        ],
        [
         153,
         "Female",
         44,
         78,
         20
        ],
        [
         154,
         "Female",
         38,
         78,
         76
        ],
        [
         155,
         "Female",
         47,
         78,
         16
        ],
        [
         156,
         "Female",
         27,
         78,
         89
        ],
        [
         157,
         "Male",
         37,
         78,
         1
        ],
        [
         158,
         "Female",
         30,
         78,
         78
        ],
        [
         159,
         "Male",
         34,
         78,
         1
        ],
        [
         160,
         "Female",
         30,
         78,
         73
        ],
        [
         161,
         "Female",
         56,
         79,
         35
        ],
        [
         162,
         "Female",
         29,
         79,
         83
        ],
        [
         163,
         "Male",
         19,
         81,
         5
        ],
        [
         164,
         "Female",
         31,
         81,
         93
        ],
        [
         165,
         "Male",
         50,
         85,
         26
        ],
        [
         166,
         "Female",
         36,
         85,
         75
        ],
        [
         167,
         "Male",
         42,
         86,
         20
        ],
        [
         168,
         "Female",
         33,
         86,
         95
        ],
        [
         169,
         "Female",
         36,
         87,
         27
        ],
        [
         170,
         "Male",
         32,
         87,
         63
        ],
        [
         171,
         "Male",
         40,
         87,
         13
        ],
        [
         172,
         "Male",
         28,
         87,
         75
        ],
        [
         173,
         "Male",
         36,
         87,
         10
        ],
        [
         174,
         "Male",
         36,
         87,
         92
        ],
        [
         175,
         "Female",
         52,
         88,
         13
        ],
        [
         176,
         "Female",
         30,
         88,
         86
        ],
        [
         177,
         "Male",
         58,
         88,
         15
        ],
        [
         178,
         "Male",
         27,
         88,
         69
        ],
        [
         179,
         "Male",
         59,
         93,
         14
        ],
        [
         180,
         "Male",
         35,
         93,
         90
        ],
        [
         181,
         "Female",
         37,
         97,
         32
        ],
        [
         182,
         "Female",
         32,
         97,
         86
        ],
        [
         183,
         "Male",
         46,
         98,
         15
        ],
        [
         184,
         "Female",
         29,
         98,
         88
        ],
        [
         185,
         "Female",
         41,
         99,
         39
        ],
        [
         186,
         "Male",
         30,
         99,
         97
        ],
        [
         187,
         "Female",
         54,
         101,
         24
        ],
        [
         188,
         "Male",
         28,
         101,
         68
        ],
        [
         189,
         "Female",
         41,
         103,
         17
        ],
        [
         190,
         "Female",
         36,
         103,
         85
        ],
        [
         191,
         "Female",
         34,
         103,
         23
        ],
        [
         192,
         "Female",
         32,
         103,
         69
        ],
        [
         193,
         "Male",
         33,
         113,
         8
        ],
        [
         194,
         "Female",
         38,
         113,
         91
        ],
        [
         195,
         "Female",
         47,
         120,
         16
        ],
        [
         196,
         "Female",
         35,
         120,
         79
        ],
        [
         197,
         "Female",
         45,
         126,
         28
        ],
        [
         198,
         "Male",
         32,
         126,
         74
        ],
        [
         199,
         "Male",
         32,
         137,
         18
        ],
        [
         200,
         "Male",
         30,
         137,
         83
        ]
       ],
       "datasetInfos": [],
       "dbfsResultPath": null,
       "isJsonSchema": true,
       "metadata": {},
       "overflow": false,
       "plotOptions": {
        "customPlotOptions": {},
        "displayType": "table",
        "pivotAggregation": null,
        "pivotColumns": null,
        "xColumns": null,
        "yColumns": null
       },
       "removedWidgets": [],
       "schema": [
        {
         "metadata": "{}",
         "name": "CustomerID",
         "type": "\"integer\""
        },
        {
         "metadata": "{}",
         "name": "Genre",
         "type": "\"string\""
        },
        {
         "metadata": "{}",
         "name": "Age",
         "type": "\"integer\""
        },
        {
         "metadata": "{}",
         "name": "Annual Income (k$)",
         "type": "\"integer\""
        },
        {
         "metadata": "{}",
         "name": "Spending Score (1-100)",
         "type": "\"integer\""
        }
       ],
       "type": "table"
      }
     },
     "output_type": "display_data"
    }
   ],
   "source": [
    "%sql\n",
    "SELECT * FROM mi_vista_temporal"
   ]
  },
  {
   "cell_type": "markdown",
   "metadata": {
    "application/vnd.databricks.v1+cell": {
     "cellMetadata": {},
     "inputWidgets": {},
     "nuid": "996a5498-0ccc-4303-bbf7-613d5a567cec",
     "showTitle": false,
     "title": ""
    }
   },
   "source": [
    "Archivo parquet"
   ]
  },
  {
   "cell_type": "code",
   "execution_count": 0,
   "metadata": {
    "application/vnd.databricks.v1+cell": {
     "cellMetadata": {
      "byteLimit": 2048000,
      "rowLimit": 10000
     },
     "inputWidgets": {},
     "nuid": "172bd8d8-a8df-416e-b8fd-db702f34e6af",
     "showTitle": false,
     "title": ""
    }
   },
   "outputs": [],
   "source": [
    "# Ejecutar la consulta SQL y almacenar el resultado en un DataFrame\n",
    "df_resultado = spark.sql(\"\"\"SELECT * FROM mi_tabla_csv \"\"\")"
   ]
  },
  {
   "cell_type": "code",
   "execution_count": 0,
   "metadata": {
    "application/vnd.databricks.v1+cell": {
     "cellMetadata": {
      "byteLimit": 2048000,
      "rowLimit": 10000
     },
     "inputWidgets": {},
     "nuid": "241bd117-bc9c-49e4-b471-4ffebccf4a59",
     "showTitle": false,
     "title": ""
    }
   },
   "outputs": [],
   "source": [
    "# Guardar el resultado en formato Parquet en la carpeta especificada\n",
    "df_resultado.write.parquet(\"/FileStore/tables/resultado_parquet\")"
   ]
  },
  {
   "cell_type": "code",
   "execution_count": 0,
   "metadata": {
    "application/vnd.databricks.v1+cell": {
     "cellMetadata": {
      "byteLimit": 2048000,
      "rowLimit": 10000
     },
     "inputWidgets": {},
     "nuid": "38c8b981-3b8c-4f74-a8bf-34fdb270031d",
     "showTitle": false,
     "title": ""
    }
   },
   "outputs": [
    {
     "output_type": "display_data",
     "data": {
      "text/html": [
       "<style scoped>\n",
       "  .table-result-container {\n",
       "    max-height: 300px;\n",
       "    overflow: auto;\n",
       "  }\n",
       "  table, th, td {\n",
       "    border: 1px solid black;\n",
       "    border-collapse: collapse;\n",
       "  }\n",
       "  th, td {\n",
       "    padding: 5px;\n",
       "  }\n",
       "  th {\n",
       "    text-align: left;\n",
       "  }\n",
       "</style><div class='table-result-container'><table class='table-result'><thead style='background-color: white'><tr><th>path</th><th>name</th><th>size</th><th>modificationTime</th></tr></thead><tbody><tr><td>dbfs:/FileStore/tables/resultado_parquet/_SUCCESS</td><td>_SUCCESS</td><td>0</td><td>1729476572000</td></tr><tr><td>dbfs:/FileStore/tables/resultado_parquet/_committed_1288630687672049619</td><td>_committed_1288630687672049619</td><td>123</td><td>1729476572000</td></tr><tr><td>dbfs:/FileStore/tables/resultado_parquet/_started_1288630687672049619</td><td>_started_1288630687672049619</td><td>0</td><td>1729476570000</td></tr><tr><td>dbfs:/FileStore/tables/resultado_parquet/part-00000-tid-1288630687672049619-e6321805-1ee3-42fd-8c2f-a859be0579b8-43-1-c000.snappy.parquet</td><td>part-00000-tid-1288630687672049619-e6321805-1ee3-42fd-8c2f-a859be0579b8-43-1-c000.snappy.parquet</td><td>3876</td><td>1729476571000</td></tr></tbody></table></div>"
      ]
     },
     "metadata": {
      "application/vnd.databricks.v1+output": {
       "addedWidgets": {},
       "aggData": [],
       "aggError": "",
       "aggOverflow": false,
       "aggSchema": [],
       "aggSeriesLimitReached": false,
       "aggType": "",
       "arguments": {},
       "columnCustomDisplayInfos": {},
       "data": [
        [
         "dbfs:/FileStore/tables/resultado_parquet/_SUCCESS",
         "_SUCCESS",
         0,
         1729476572000
        ],
        [
         "dbfs:/FileStore/tables/resultado_parquet/_committed_1288630687672049619",
         "_committed_1288630687672049619",
         123,
         1729476572000
        ],
        [
         "dbfs:/FileStore/tables/resultado_parquet/_started_1288630687672049619",
         "_started_1288630687672049619",
         0,
         1729476570000
        ],
        [
         "dbfs:/FileStore/tables/resultado_parquet/part-00000-tid-1288630687672049619-e6321805-1ee3-42fd-8c2f-a859be0579b8-43-1-c000.snappy.parquet",
         "part-00000-tid-1288630687672049619-e6321805-1ee3-42fd-8c2f-a859be0579b8-43-1-c000.snappy.parquet",
         3876,
         1729476571000
        ]
       ],
       "datasetInfos": [],
       "dbfsResultPath": null,
       "isJsonSchema": true,
       "metadata": {
        "isDbfsCommandResult": false
       },
       "overflow": false,
       "plotOptions": {
        "customPlotOptions": {},
        "displayType": "table",
        "pivotAggregation": null,
        "pivotColumns": null,
        "xColumns": null,
        "yColumns": null
       },
       "removedWidgets": [],
       "schema": [
        {
         "metadata": "{}",
         "name": "path",
         "type": "\"string\""
        },
        {
         "metadata": "{}",
         "name": "name",
         "type": "\"string\""
        },
        {
         "metadata": "{}",
         "name": "size",
         "type": "\"long\""
        },
        {
         "metadata": "{}",
         "name": "modificationTime",
         "type": "\"long\""
        }
       ],
       "type": "table"
      }
     },
     "output_type": "display_data"
    }
   ],
   "source": [
    "%fs ls /FileStore/tables/resultado_parquet"
   ]
  },
  {
   "cell_type": "code",
   "execution_count": 0,
   "metadata": {
    "application/vnd.databricks.v1+cell": {
     "cellMetadata": {
      "byteLimit": 2048000,
      "rowLimit": 10000
     },
     "inputWidgets": {},
     "nuid": "542c2e9b-0f0c-46d2-935c-2136cabe94ba",
     "showTitle": false,
     "title": ""
    }
   },
   "outputs": [
    {
     "output_type": "display_data",
     "data": {
      "text/plain": [
       "\u001B[0;36m  File \u001B[0;32m<command-949380784529352>:1\u001B[0;36m\u001B[0m\n",
       "\u001B[0;31m    dbfs cp -r\u001B[0m\n",
       "\u001B[0m         ^\u001B[0m\n",
       "\u001B[0;31mSyntaxError\u001B[0m\u001B[0;31m:\u001B[0m invalid syntax\n"
      ]
     },
     "metadata": {
      "application/vnd.databricks.v1+output": {
       "arguments": {},
       "data": "\u001B[0;36m  File \u001B[0;32m<command-949380784529352>:1\u001B[0;36m\u001B[0m\n\u001B[0;31m    dbfs cp -r\u001B[0m\n\u001B[0m         ^\u001B[0m\n\u001B[0;31mSyntaxError\u001B[0m\u001B[0;31m:\u001B[0m invalid syntax\n",
       "errorSummary": "<span class='ansi-red-fg'>SyntaxError</span>: invalid syntax (<command-949380784529352>, line 1)",
       "errorTraceType": "ansi",
       "metadata": {},
       "type": "ipynbError"
      }
     },
     "output_type": "display_data"
    }
   ],
   "source": [
    "dbfs cp -r"
   ]
  }
 ],
 "metadata": {
  "application/vnd.databricks.v1+notebook": {
   "dashboards": [],
   "environmentMetadata": null,
   "language": "python",
   "notebookMetadata": {
    "mostRecentlyExecutedCommandWithImplicitDF": {
     "commandId": 949380784529350,
     "dataframes": [
      "_sqldf"
     ]
    },
    "pythonIndentUnit": 4
   },
   "notebookName": "2024-10-20 - DBFS Example",
   "widgets": {}
  }
 },
 "nbformat": 4,
 "nbformat_minor": 0
}
